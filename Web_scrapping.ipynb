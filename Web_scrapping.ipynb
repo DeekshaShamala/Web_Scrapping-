{
  "nbformat": 4,
  "nbformat_minor": 0,
  "metadata": {
    "colab": {
      "provenance": []
    },
    "kernelspec": {
      "name": "python3",
      "display_name": "Python 3"
    },
    "language_info": {
      "name": "python"
    }
  },
  "cells": [
    {
      "cell_type": "code",
      "execution_count": null,
      "metadata": {
        "id": "cKhwzUfbON28"
      },
      "outputs": [],
      "source": [
        "import numpy as np\n",
        "import pandas as pd\n",
        "import matplotlib.pyplot as plt\n",
        "import seaborn as sns\n",
        "import re                          \n",
        "import time\n",
        "import requests\n",
        "from bs4 import BeautifulSoup\n",
        "import warnings\n",
        "warnings.filterwarnings(\"ignore\")\n",
        "Model=[]\n",
        "Mileage=[]\n",
        "Final_Price=[]\n",
        "MSRP=[]\n",
        "Price_Drop=[]\n",
        "Dealer=[]\n",
        "Rating=[]\n",
        "Number_of_Reviews=[]\n",
        "Brand=[]\n",
        "\n",
        "lst=[\"audi\",\"bmw\",\"ford\",\"mercedes-benz\",\"hyundai\",\"tesla\",\"cadillac\",\"porsche\",\"bentley\",\"bugatti\",\"ferrari\",\"chevrolet\",\"honda\",\"kia\",\"nissan\",\"toyota\",\"volkswagen\",\"fiat\",\"rolls-royce\",\"maserati\",\"jeep\",\"volvo\"]\n",
        "\n",
        "\n",
        "\n",
        "for j in lst:\n",
        "\n",
        "   URL=\"https://www.cars.com/shopping/results/?page=12&page_size=20&list_price_max=&makes[]=\"+j+\"&maximum_distance=all&models[]=&stock_type=all&zip=\"\n",
        "   page=requests.get(URL)\n",
        "   #print(page.status_code)\n",
        "   page_content=page.content\n",
        "   soup_content=BeautifulSoup(page_content,'html.parser')   \n",
        "\n",
        "   for each in soup_content.find_all('div',{'class':'vehicle-card'}):\n",
        "\n",
        "      model=each.find('h2',{'class':'title'})\n",
        "      mileage=each.find('div',{'class':'mileage'})\n",
        "      final_price=each.find('span',{'class':'primary-price'})\n",
        "      msrp=each.find('span',{'class':'secondary-price'})\n",
        "      price_drop=each.find('span',{'class':'secondary-price price-drop'})\n",
        "      dealer=each.find('div',{'class':'dealer-name'})\n",
        "      #EMI=each.find('span',{'class':'js-estimated-monthly-payment-formatted-value-with-abr'})\n",
        "      rating=each.find('span',{'class':'sds-rating__count'})\n",
        "      number_of_reviews=each.find('span',{'class':'sds-rating__link'})\n",
        "    \n",
        "      Brand.append(j.capitalize())\n",
        "      \n",
        "      if model is None:\n",
        "       Model.append(np.NaN)\n",
        "      else:\n",
        "       Model.append(model.text)\n",
        "\n",
        "      if mileage is None:\n",
        "       Mileage.append(np.NaN)\n",
        "      else:\n",
        "       Mileage.append(mileage.text)\n",
        "\n",
        "      if  final_price is None:\n",
        "       Final_Price.append(np.NaN)\n",
        "      else:\n",
        "       Final_Price.append( final_price.text)\n",
        "\n",
        "      if msrp is None:\n",
        "       MSRP.append(np.NaN)\n",
        "      else:\n",
        "       MSRP.append(msrp.text)\n",
        "\n",
        "      if price_drop is None:\n",
        "       Price_Drop.append(np.NaN)\n",
        "      else:\n",
        "       Price_Drop.append(price_drop.text)\n",
        "\n",
        "      if dealer is None:\n",
        "       Dealer.append(np.NaN)\n",
        "      else:\n",
        "       Dealer.append(dealer.text.strip())\n",
        "\n",
        "      if rating is None:\n",
        "       Rating.append(np.NaN)\n",
        "      else:\n",
        "       Rating.append(rating.text)\n",
        "\n",
        "      if number_of_reviews is None:\n",
        "       Number_of_Reviews.append(np.NaN)\n",
        "      else:\n",
        "       Number_of_Reviews.append(number_of_reviews.text)"
      ]
    },
    {
      "cell_type": "code",
      "source": [
        "for i in range(len(Final_Price)):\n",
        "    if Final_Price[i] == 'Not Priced':\n",
        "        Final_Price[i] = np.NAN\n",
        "  "
      ],
      "metadata": {
        "id": "WUoLiux6DML2"
      },
      "execution_count": null,
      "outputs": []
    },
    {
      "cell_type": "code",
      "source": [
        "cars=pd.DataFrame({\"Brand\":Brand,\"Model\":Model,\"Mileage\":Mileage,\"Final Price\":Final_Price,\"Price Drop\":Price_Drop,\"Dealer\":Dealer,\"Rating\":Rating,\"Number of Reviews\": Number_of_Reviews})"
      ],
      "metadata": {
        "id": "b4CMQxFtOWac"
      },
      "execution_count": null,
      "outputs": []
    },
    {
      "cell_type": "markdown",
      "source": [],
      "metadata": {
        "id": "weSNIYBwM4pj"
      }
    },
    {
      "cell_type": "code",
      "source": [
        "cars.head()"
      ],
      "metadata": {
        "colab": {
          "base_uri": "https://localhost:8080/",
          "height": 206
        },
        "id": "J3zmM6flOWhZ",
        "outputId": "aba1775f-7ee0-41f9-d90f-44835cbd78fc"
      },
      "execution_count": null,
      "outputs": [
        {
          "output_type": "execute_result",
          "data": {
            "text/plain": [
              "  Brand                           Model     Mileage Final Price  \\\n",
              "0  Audi  2016 Audi A7 3.0T Premium Plus  67,643 mi.     $29,995   \n",
              "1  Audi             2019 Audi RS 3 2.5T  26,585 mi.     $54,995   \n",
              "2  Audi       2019 Audi A4 2.0T Premium  27,728 mi.     $29,539   \n",
              "3  Audi            2020 Audi R8 5.2 V10   4,805 mi.    $179,999   \n",
              "4  Audi  2020 Audi S6 2.9T Premium Plus  26,006 mi.     $58,890   \n",
              "\n",
              "        Price Drop                            Dealer Rating Number of Reviews  \n",
              "0              NaN            Freeman Motor Co Salem    NaN       (0 reviews)  \n",
              "1              NaN                     TX Auto Group    4.7     (151 reviews)  \n",
              "2  $365 price drop  Bergstrom Luxury on Victory Lane    4.3     (291 reviews)  \n",
              "3              NaN                  Modern Motorcars    4.2     (532 reviews)  \n",
              "4              NaN      Mercedes-Benz of Springfield    5.0      (98 reviews)  "
            ],
            "text/html": [
              "\n",
              "  <div id=\"df-e2e88646-ea38-44c1-9abd-915e761ff6fa\">\n",
              "    <div class=\"colab-df-container\">\n",
              "      <div>\n",
              "<style scoped>\n",
              "    .dataframe tbody tr th:only-of-type {\n",
              "        vertical-align: middle;\n",
              "    }\n",
              "\n",
              "    .dataframe tbody tr th {\n",
              "        vertical-align: top;\n",
              "    }\n",
              "\n",
              "    .dataframe thead th {\n",
              "        text-align: right;\n",
              "    }\n",
              "</style>\n",
              "<table border=\"1\" class=\"dataframe\">\n",
              "  <thead>\n",
              "    <tr style=\"text-align: right;\">\n",
              "      <th></th>\n",
              "      <th>Brand</th>\n",
              "      <th>Model</th>\n",
              "      <th>Mileage</th>\n",
              "      <th>Final Price</th>\n",
              "      <th>Price Drop</th>\n",
              "      <th>Dealer</th>\n",
              "      <th>Rating</th>\n",
              "      <th>Number of Reviews</th>\n",
              "    </tr>\n",
              "  </thead>\n",
              "  <tbody>\n",
              "    <tr>\n",
              "      <th>0</th>\n",
              "      <td>Audi</td>\n",
              "      <td>2016 Audi A7 3.0T Premium Plus</td>\n",
              "      <td>67,643 mi.</td>\n",
              "      <td>$29,995</td>\n",
              "      <td>NaN</td>\n",
              "      <td>Freeman Motor Co Salem</td>\n",
              "      <td>NaN</td>\n",
              "      <td>(0 reviews)</td>\n",
              "    </tr>\n",
              "    <tr>\n",
              "      <th>1</th>\n",
              "      <td>Audi</td>\n",
              "      <td>2019 Audi RS 3 2.5T</td>\n",
              "      <td>26,585 mi.</td>\n",
              "      <td>$54,995</td>\n",
              "      <td>NaN</td>\n",
              "      <td>TX Auto Group</td>\n",
              "      <td>4.7</td>\n",
              "      <td>(151 reviews)</td>\n",
              "    </tr>\n",
              "    <tr>\n",
              "      <th>2</th>\n",
              "      <td>Audi</td>\n",
              "      <td>2019 Audi A4 2.0T Premium</td>\n",
              "      <td>27,728 mi.</td>\n",
              "      <td>$29,539</td>\n",
              "      <td>$365 price drop</td>\n",
              "      <td>Bergstrom Luxury on Victory Lane</td>\n",
              "      <td>4.3</td>\n",
              "      <td>(291 reviews)</td>\n",
              "    </tr>\n",
              "    <tr>\n",
              "      <th>3</th>\n",
              "      <td>Audi</td>\n",
              "      <td>2020 Audi R8 5.2 V10</td>\n",
              "      <td>4,805 mi.</td>\n",
              "      <td>$179,999</td>\n",
              "      <td>NaN</td>\n",
              "      <td>Modern Motorcars</td>\n",
              "      <td>4.2</td>\n",
              "      <td>(532 reviews)</td>\n",
              "    </tr>\n",
              "    <tr>\n",
              "      <th>4</th>\n",
              "      <td>Audi</td>\n",
              "      <td>2020 Audi S6 2.9T Premium Plus</td>\n",
              "      <td>26,006 mi.</td>\n",
              "      <td>$58,890</td>\n",
              "      <td>NaN</td>\n",
              "      <td>Mercedes-Benz of Springfield</td>\n",
              "      <td>5.0</td>\n",
              "      <td>(98 reviews)</td>\n",
              "    </tr>\n",
              "  </tbody>\n",
              "</table>\n",
              "</div>\n",
              "      <button class=\"colab-df-convert\" onclick=\"convertToInteractive('df-e2e88646-ea38-44c1-9abd-915e761ff6fa')\"\n",
              "              title=\"Convert this dataframe to an interactive table.\"\n",
              "              style=\"display:none;\">\n",
              "        \n",
              "  <svg xmlns=\"http://www.w3.org/2000/svg\" height=\"24px\"viewBox=\"0 0 24 24\"\n",
              "       width=\"24px\">\n",
              "    <path d=\"M0 0h24v24H0V0z\" fill=\"none\"/>\n",
              "    <path d=\"M18.56 5.44l.94 2.06.94-2.06 2.06-.94-2.06-.94-.94-2.06-.94 2.06-2.06.94zm-11 1L8.5 8.5l.94-2.06 2.06-.94-2.06-.94L8.5 2.5l-.94 2.06-2.06.94zm10 10l.94 2.06.94-2.06 2.06-.94-2.06-.94-.94-2.06-.94 2.06-2.06.94z\"/><path d=\"M17.41 7.96l-1.37-1.37c-.4-.4-.92-.59-1.43-.59-.52 0-1.04.2-1.43.59L10.3 9.45l-7.72 7.72c-.78.78-.78 2.05 0 2.83L4 21.41c.39.39.9.59 1.41.59.51 0 1.02-.2 1.41-.59l7.78-7.78 2.81-2.81c.8-.78.8-2.07 0-2.86zM5.41 20L4 18.59l7.72-7.72 1.47 1.35L5.41 20z\"/>\n",
              "  </svg>\n",
              "      </button>\n",
              "      \n",
              "  <style>\n",
              "    .colab-df-container {\n",
              "      display:flex;\n",
              "      flex-wrap:wrap;\n",
              "      gap: 12px;\n",
              "    }\n",
              "\n",
              "    .colab-df-convert {\n",
              "      background-color: #E8F0FE;\n",
              "      border: none;\n",
              "      border-radius: 50%;\n",
              "      cursor: pointer;\n",
              "      display: none;\n",
              "      fill: #1967D2;\n",
              "      height: 32px;\n",
              "      padding: 0 0 0 0;\n",
              "      width: 32px;\n",
              "    }\n",
              "\n",
              "    .colab-df-convert:hover {\n",
              "      background-color: #E2EBFA;\n",
              "      box-shadow: 0px 1px 2px rgba(60, 64, 67, 0.3), 0px 1px 3px 1px rgba(60, 64, 67, 0.15);\n",
              "      fill: #174EA6;\n",
              "    }\n",
              "\n",
              "    [theme=dark] .colab-df-convert {\n",
              "      background-color: #3B4455;\n",
              "      fill: #D2E3FC;\n",
              "    }\n",
              "\n",
              "    [theme=dark] .colab-df-convert:hover {\n",
              "      background-color: #434B5C;\n",
              "      box-shadow: 0px 1px 3px 1px rgba(0, 0, 0, 0.15);\n",
              "      filter: drop-shadow(0px 1px 2px rgba(0, 0, 0, 0.3));\n",
              "      fill: #FFFFFF;\n",
              "    }\n",
              "  </style>\n",
              "\n",
              "      <script>\n",
              "        const buttonEl =\n",
              "          document.querySelector('#df-e2e88646-ea38-44c1-9abd-915e761ff6fa button.colab-df-convert');\n",
              "        buttonEl.style.display =\n",
              "          google.colab.kernel.accessAllowed ? 'block' : 'none';\n",
              "\n",
              "        async function convertToInteractive(key) {\n",
              "          const element = document.querySelector('#df-e2e88646-ea38-44c1-9abd-915e761ff6fa');\n",
              "          const dataTable =\n",
              "            await google.colab.kernel.invokeFunction('convertToInteractive',\n",
              "                                                     [key], {});\n",
              "          if (!dataTable) return;\n",
              "\n",
              "          const docLinkHtml = 'Like what you see? Visit the ' +\n",
              "            '<a target=\"_blank\" href=https://colab.research.google.com/notebooks/data_table.ipynb>data table notebook</a>'\n",
              "            + ' to learn more about interactive tables.';\n",
              "          element.innerHTML = '';\n",
              "          dataTable['output_type'] = 'display_data';\n",
              "          await google.colab.output.renderOutput(dataTable, element);\n",
              "          const docLink = document.createElement('div');\n",
              "          docLink.innerHTML = docLinkHtml;\n",
              "          element.appendChild(docLink);\n",
              "        }\n",
              "      </script>\n",
              "    </div>\n",
              "  </div>\n",
              "  "
            ]
          },
          "metadata": {},
          "execution_count": 27
        }
      ]
    },
    {
      "cell_type": "markdown",
      "source": [
        "###Checking duplicated rows and deleting if any"
      ],
      "metadata": {
        "id": "KasrtW2H4871"
      }
    },
    {
      "cell_type": "code",
      "source": [
        "cars.duplicated().sum()"
      ],
      "metadata": {
        "colab": {
          "base_uri": "https://localhost:8080/"
        },
        "id": "RzlWYeCAOWnZ",
        "outputId": "01006e61-eb9a-42a7-a6dc-1ead069f3fae"
      },
      "execution_count": null,
      "outputs": [
        {
          "output_type": "execute_result",
          "data": {
            "text/plain": [
              "0"
            ]
          },
          "metadata": {},
          "execution_count": 28
        }
      ]
    },
    {
      "cell_type": "code",
      "source": [
        "cars=cars.drop_duplicates(keep=\"first\")"
      ],
      "metadata": {
        "id": "tw1RCNNxaJgA"
      },
      "execution_count": null,
      "outputs": []
    },
    {
      "cell_type": "code",
      "source": [
        "cars.head()"
      ],
      "metadata": {
        "colab": {
          "base_uri": "https://localhost:8080/",
          "height": 206
        },
        "id": "McfrbBsffs6N",
        "outputId": "088b87fe-d1a0-4f81-9b08-ed7851fdc97c"
      },
      "execution_count": null,
      "outputs": [
        {
          "output_type": "execute_result",
          "data": {
            "text/plain": [
              "  Brand                           Model     Mileage Final Price  \\\n",
              "0  Audi  2016 Audi A7 3.0T Premium Plus  67,643 mi.     $29,995   \n",
              "1  Audi             2019 Audi RS 3 2.5T  26,585 mi.     $54,995   \n",
              "2  Audi       2019 Audi A4 2.0T Premium  27,728 mi.     $29,539   \n",
              "3  Audi            2020 Audi R8 5.2 V10   4,805 mi.    $179,999   \n",
              "4  Audi  2020 Audi S6 2.9T Premium Plus  26,006 mi.     $58,890   \n",
              "\n",
              "        Price Drop                            Dealer Rating Number of Reviews  \n",
              "0              NaN            Freeman Motor Co Salem    NaN       (0 reviews)  \n",
              "1              NaN                     TX Auto Group    4.7     (151 reviews)  \n",
              "2  $365 price drop  Bergstrom Luxury on Victory Lane    4.3     (291 reviews)  \n",
              "3              NaN                  Modern Motorcars    4.2     (532 reviews)  \n",
              "4              NaN      Mercedes-Benz of Springfield    5.0      (98 reviews)  "
            ],
            "text/html": [
              "\n",
              "  <div id=\"df-588b5ae4-a8b4-47a5-8cbf-b4a5d539d227\">\n",
              "    <div class=\"colab-df-container\">\n",
              "      <div>\n",
              "<style scoped>\n",
              "    .dataframe tbody tr th:only-of-type {\n",
              "        vertical-align: middle;\n",
              "    }\n",
              "\n",
              "    .dataframe tbody tr th {\n",
              "        vertical-align: top;\n",
              "    }\n",
              "\n",
              "    .dataframe thead th {\n",
              "        text-align: right;\n",
              "    }\n",
              "</style>\n",
              "<table border=\"1\" class=\"dataframe\">\n",
              "  <thead>\n",
              "    <tr style=\"text-align: right;\">\n",
              "      <th></th>\n",
              "      <th>Brand</th>\n",
              "      <th>Model</th>\n",
              "      <th>Mileage</th>\n",
              "      <th>Final Price</th>\n",
              "      <th>Price Drop</th>\n",
              "      <th>Dealer</th>\n",
              "      <th>Rating</th>\n",
              "      <th>Number of Reviews</th>\n",
              "    </tr>\n",
              "  </thead>\n",
              "  <tbody>\n",
              "    <tr>\n",
              "      <th>0</th>\n",
              "      <td>Audi</td>\n",
              "      <td>2016 Audi A7 3.0T Premium Plus</td>\n",
              "      <td>67,643 mi.</td>\n",
              "      <td>$29,995</td>\n",
              "      <td>NaN</td>\n",
              "      <td>Freeman Motor Co Salem</td>\n",
              "      <td>NaN</td>\n",
              "      <td>(0 reviews)</td>\n",
              "    </tr>\n",
              "    <tr>\n",
              "      <th>1</th>\n",
              "      <td>Audi</td>\n",
              "      <td>2019 Audi RS 3 2.5T</td>\n",
              "      <td>26,585 mi.</td>\n",
              "      <td>$54,995</td>\n",
              "      <td>NaN</td>\n",
              "      <td>TX Auto Group</td>\n",
              "      <td>4.7</td>\n",
              "      <td>(151 reviews)</td>\n",
              "    </tr>\n",
              "    <tr>\n",
              "      <th>2</th>\n",
              "      <td>Audi</td>\n",
              "      <td>2019 Audi A4 2.0T Premium</td>\n",
              "      <td>27,728 mi.</td>\n",
              "      <td>$29,539</td>\n",
              "      <td>$365 price drop</td>\n",
              "      <td>Bergstrom Luxury on Victory Lane</td>\n",
              "      <td>4.3</td>\n",
              "      <td>(291 reviews)</td>\n",
              "    </tr>\n",
              "    <tr>\n",
              "      <th>3</th>\n",
              "      <td>Audi</td>\n",
              "      <td>2020 Audi R8 5.2 V10</td>\n",
              "      <td>4,805 mi.</td>\n",
              "      <td>$179,999</td>\n",
              "      <td>NaN</td>\n",
              "      <td>Modern Motorcars</td>\n",
              "      <td>4.2</td>\n",
              "      <td>(532 reviews)</td>\n",
              "    </tr>\n",
              "    <tr>\n",
              "      <th>4</th>\n",
              "      <td>Audi</td>\n",
              "      <td>2020 Audi S6 2.9T Premium Plus</td>\n",
              "      <td>26,006 mi.</td>\n",
              "      <td>$58,890</td>\n",
              "      <td>NaN</td>\n",
              "      <td>Mercedes-Benz of Springfield</td>\n",
              "      <td>5.0</td>\n",
              "      <td>(98 reviews)</td>\n",
              "    </tr>\n",
              "  </tbody>\n",
              "</table>\n",
              "</div>\n",
              "      <button class=\"colab-df-convert\" onclick=\"convertToInteractive('df-588b5ae4-a8b4-47a5-8cbf-b4a5d539d227')\"\n",
              "              title=\"Convert this dataframe to an interactive table.\"\n",
              "              style=\"display:none;\">\n",
              "        \n",
              "  <svg xmlns=\"http://www.w3.org/2000/svg\" height=\"24px\"viewBox=\"0 0 24 24\"\n",
              "       width=\"24px\">\n",
              "    <path d=\"M0 0h24v24H0V0z\" fill=\"none\"/>\n",
              "    <path d=\"M18.56 5.44l.94 2.06.94-2.06 2.06-.94-2.06-.94-.94-2.06-.94 2.06-2.06.94zm-11 1L8.5 8.5l.94-2.06 2.06-.94-2.06-.94L8.5 2.5l-.94 2.06-2.06.94zm10 10l.94 2.06.94-2.06 2.06-.94-2.06-.94-.94-2.06-.94 2.06-2.06.94z\"/><path d=\"M17.41 7.96l-1.37-1.37c-.4-.4-.92-.59-1.43-.59-.52 0-1.04.2-1.43.59L10.3 9.45l-7.72 7.72c-.78.78-.78 2.05 0 2.83L4 21.41c.39.39.9.59 1.41.59.51 0 1.02-.2 1.41-.59l7.78-7.78 2.81-2.81c.8-.78.8-2.07 0-2.86zM5.41 20L4 18.59l7.72-7.72 1.47 1.35L5.41 20z\"/>\n",
              "  </svg>\n",
              "      </button>\n",
              "      \n",
              "  <style>\n",
              "    .colab-df-container {\n",
              "      display:flex;\n",
              "      flex-wrap:wrap;\n",
              "      gap: 12px;\n",
              "    }\n",
              "\n",
              "    .colab-df-convert {\n",
              "      background-color: #E8F0FE;\n",
              "      border: none;\n",
              "      border-radius: 50%;\n",
              "      cursor: pointer;\n",
              "      display: none;\n",
              "      fill: #1967D2;\n",
              "      height: 32px;\n",
              "      padding: 0 0 0 0;\n",
              "      width: 32px;\n",
              "    }\n",
              "\n",
              "    .colab-df-convert:hover {\n",
              "      background-color: #E2EBFA;\n",
              "      box-shadow: 0px 1px 2px rgba(60, 64, 67, 0.3), 0px 1px 3px 1px rgba(60, 64, 67, 0.15);\n",
              "      fill: #174EA6;\n",
              "    }\n",
              "\n",
              "    [theme=dark] .colab-df-convert {\n",
              "      background-color: #3B4455;\n",
              "      fill: #D2E3FC;\n",
              "    }\n",
              "\n",
              "    [theme=dark] .colab-df-convert:hover {\n",
              "      background-color: #434B5C;\n",
              "      box-shadow: 0px 1px 3px 1px rgba(0, 0, 0, 0.15);\n",
              "      filter: drop-shadow(0px 1px 2px rgba(0, 0, 0, 0.3));\n",
              "      fill: #FFFFFF;\n",
              "    }\n",
              "  </style>\n",
              "\n",
              "      <script>\n",
              "        const buttonEl =\n",
              "          document.querySelector('#df-588b5ae4-a8b4-47a5-8cbf-b4a5d539d227 button.colab-df-convert');\n",
              "        buttonEl.style.display =\n",
              "          google.colab.kernel.accessAllowed ? 'block' : 'none';\n",
              "\n",
              "        async function convertToInteractive(key) {\n",
              "          const element = document.querySelector('#df-588b5ae4-a8b4-47a5-8cbf-b4a5d539d227');\n",
              "          const dataTable =\n",
              "            await google.colab.kernel.invokeFunction('convertToInteractive',\n",
              "                                                     [key], {});\n",
              "          if (!dataTable) return;\n",
              "\n",
              "          const docLinkHtml = 'Like what you see? Visit the ' +\n",
              "            '<a target=\"_blank\" href=https://colab.research.google.com/notebooks/data_table.ipynb>data table notebook</a>'\n",
              "            + ' to learn more about interactive tables.';\n",
              "          element.innerHTML = '';\n",
              "          dataTable['output_type'] = 'display_data';\n",
              "          await google.colab.output.renderOutput(dataTable, element);\n",
              "          const docLink = document.createElement('div');\n",
              "          docLink.innerHTML = docLinkHtml;\n",
              "          element.appendChild(docLink);\n",
              "        }\n",
              "      </script>\n",
              "    </div>\n",
              "  </div>\n",
              "  "
            ]
          },
          "metadata": {},
          "execution_count": 30
        }
      ]
    },
    {
      "cell_type": "code",
      "source": [
        "cars.dtypes"
      ],
      "metadata": {
        "colab": {
          "base_uri": "https://localhost:8080/"
        },
        "id": "hM6p-0GOPTtE",
        "outputId": "bafa66f8-1b03-4875-8149-3ed8533a8cb4"
      },
      "execution_count": null,
      "outputs": [
        {
          "output_type": "execute_result",
          "data": {
            "text/plain": [
              "Brand                object\n",
              "Model                object\n",
              "Mileage              object\n",
              "Final Price          object\n",
              "Price Drop           object\n",
              "Dealer               object\n",
              "Rating               object\n",
              "Number of Reviews    object\n",
              "dtype: object"
            ]
          },
          "metadata": {},
          "execution_count": 31
        }
      ]
    },
    {
      "cell_type": "code",
      "source": [],
      "metadata": {
        "id": "1ZxBef-D4wcz"
      },
      "execution_count": null,
      "outputs": []
    },
    {
      "cell_type": "markdown",
      "source": [
        "###Finding the null values percentage"
      ],
      "metadata": {
        "id": "JFXSntcn42JA"
      }
    },
    {
      "cell_type": "code",
      "source": [
        "100*(cars.isnull().sum()/cars.shape[0])"
      ],
      "metadata": {
        "colab": {
          "base_uri": "https://localhost:8080/"
        },
        "id": "XsQz1_iQ9fO-",
        "outputId": "572e7823-1ed3-4840-c34c-059935c02aa3"
      },
      "execution_count": null,
      "outputs": [
        {
          "output_type": "execute_result",
          "data": {
            "text/plain": [
              "Brand                 0.000000\n",
              "Model                 0.000000\n",
              "Mileage              40.837696\n",
              "Final Price           2.094241\n",
              "Price Drop           76.439791\n",
              "Dealer                0.261780\n",
              "Rating               32.984293\n",
              "Number of Reviews     3.141361\n",
              "dtype: float64"
            ]
          },
          "metadata": {},
          "execution_count": 32
        }
      ]
    },
    {
      "cell_type": "code",
      "source": [],
      "metadata": {
        "id": "0PsXEmF9Olh5"
      },
      "execution_count": null,
      "outputs": []
    },
    {
      "cell_type": "code",
      "source": [],
      "metadata": {
        "id": "--1E2JcXMPQL"
      },
      "execution_count": null,
      "outputs": []
    },
    {
      "cell_type": "code",
      "source": [
        "cars.head()"
      ],
      "metadata": {
        "colab": {
          "base_uri": "https://localhost:8080/",
          "height": 206
        },
        "id": "vr2BXASaU_aC",
        "outputId": "e8849c9c-94df-4c16-9d24-67303332af71"
      },
      "execution_count": null,
      "outputs": [
        {
          "output_type": "execute_result",
          "data": {
            "text/plain": [
              "  Brand                           Model     Mileage Final Price  \\\n",
              "0  Audi  2016 Audi A7 3.0T Premium Plus  67,643 mi.     $29,995   \n",
              "1  Audi             2019 Audi RS 3 2.5T  26,585 mi.     $54,995   \n",
              "2  Audi       2019 Audi A4 2.0T Premium  27,728 mi.     $29,539   \n",
              "3  Audi            2020 Audi R8 5.2 V10   4,805 mi.    $179,999   \n",
              "4  Audi  2020 Audi S6 2.9T Premium Plus  26,006 mi.     $58,890   \n",
              "\n",
              "        Price Drop                            Dealer Rating Number of Reviews  \n",
              "0              NaN            Freeman Motor Co Salem    NaN       (0 reviews)  \n",
              "1              NaN                     TX Auto Group    4.7     (151 reviews)  \n",
              "2  $365 price drop  Bergstrom Luxury on Victory Lane    4.3     (291 reviews)  \n",
              "3              NaN                  Modern Motorcars    4.2     (532 reviews)  \n",
              "4              NaN      Mercedes-Benz of Springfield    5.0      (98 reviews)  "
            ],
            "text/html": [
              "\n",
              "  <div id=\"df-8f3a4baa-5562-4152-a3c3-5b3b2218e199\">\n",
              "    <div class=\"colab-df-container\">\n",
              "      <div>\n",
              "<style scoped>\n",
              "    .dataframe tbody tr th:only-of-type {\n",
              "        vertical-align: middle;\n",
              "    }\n",
              "\n",
              "    .dataframe tbody tr th {\n",
              "        vertical-align: top;\n",
              "    }\n",
              "\n",
              "    .dataframe thead th {\n",
              "        text-align: right;\n",
              "    }\n",
              "</style>\n",
              "<table border=\"1\" class=\"dataframe\">\n",
              "  <thead>\n",
              "    <tr style=\"text-align: right;\">\n",
              "      <th></th>\n",
              "      <th>Brand</th>\n",
              "      <th>Model</th>\n",
              "      <th>Mileage</th>\n",
              "      <th>Final Price</th>\n",
              "      <th>Price Drop</th>\n",
              "      <th>Dealer</th>\n",
              "      <th>Rating</th>\n",
              "      <th>Number of Reviews</th>\n",
              "    </tr>\n",
              "  </thead>\n",
              "  <tbody>\n",
              "    <tr>\n",
              "      <th>0</th>\n",
              "      <td>Audi</td>\n",
              "      <td>2016 Audi A7 3.0T Premium Plus</td>\n",
              "      <td>67,643 mi.</td>\n",
              "      <td>$29,995</td>\n",
              "      <td>NaN</td>\n",
              "      <td>Freeman Motor Co Salem</td>\n",
              "      <td>NaN</td>\n",
              "      <td>(0 reviews)</td>\n",
              "    </tr>\n",
              "    <tr>\n",
              "      <th>1</th>\n",
              "      <td>Audi</td>\n",
              "      <td>2019 Audi RS 3 2.5T</td>\n",
              "      <td>26,585 mi.</td>\n",
              "      <td>$54,995</td>\n",
              "      <td>NaN</td>\n",
              "      <td>TX Auto Group</td>\n",
              "      <td>4.7</td>\n",
              "      <td>(151 reviews)</td>\n",
              "    </tr>\n",
              "    <tr>\n",
              "      <th>2</th>\n",
              "      <td>Audi</td>\n",
              "      <td>2019 Audi A4 2.0T Premium</td>\n",
              "      <td>27,728 mi.</td>\n",
              "      <td>$29,539</td>\n",
              "      <td>$365 price drop</td>\n",
              "      <td>Bergstrom Luxury on Victory Lane</td>\n",
              "      <td>4.3</td>\n",
              "      <td>(291 reviews)</td>\n",
              "    </tr>\n",
              "    <tr>\n",
              "      <th>3</th>\n",
              "      <td>Audi</td>\n",
              "      <td>2020 Audi R8 5.2 V10</td>\n",
              "      <td>4,805 mi.</td>\n",
              "      <td>$179,999</td>\n",
              "      <td>NaN</td>\n",
              "      <td>Modern Motorcars</td>\n",
              "      <td>4.2</td>\n",
              "      <td>(532 reviews)</td>\n",
              "    </tr>\n",
              "    <tr>\n",
              "      <th>4</th>\n",
              "      <td>Audi</td>\n",
              "      <td>2020 Audi S6 2.9T Premium Plus</td>\n",
              "      <td>26,006 mi.</td>\n",
              "      <td>$58,890</td>\n",
              "      <td>NaN</td>\n",
              "      <td>Mercedes-Benz of Springfield</td>\n",
              "      <td>5.0</td>\n",
              "      <td>(98 reviews)</td>\n",
              "    </tr>\n",
              "  </tbody>\n",
              "</table>\n",
              "</div>\n",
              "      <button class=\"colab-df-convert\" onclick=\"convertToInteractive('df-8f3a4baa-5562-4152-a3c3-5b3b2218e199')\"\n",
              "              title=\"Convert this dataframe to an interactive table.\"\n",
              "              style=\"display:none;\">\n",
              "        \n",
              "  <svg xmlns=\"http://www.w3.org/2000/svg\" height=\"24px\"viewBox=\"0 0 24 24\"\n",
              "       width=\"24px\">\n",
              "    <path d=\"M0 0h24v24H0V0z\" fill=\"none\"/>\n",
              "    <path d=\"M18.56 5.44l.94 2.06.94-2.06 2.06-.94-2.06-.94-.94-2.06-.94 2.06-2.06.94zm-11 1L8.5 8.5l.94-2.06 2.06-.94-2.06-.94L8.5 2.5l-.94 2.06-2.06.94zm10 10l.94 2.06.94-2.06 2.06-.94-2.06-.94-.94-2.06-.94 2.06-2.06.94z\"/><path d=\"M17.41 7.96l-1.37-1.37c-.4-.4-.92-.59-1.43-.59-.52 0-1.04.2-1.43.59L10.3 9.45l-7.72 7.72c-.78.78-.78 2.05 0 2.83L4 21.41c.39.39.9.59 1.41.59.51 0 1.02-.2 1.41-.59l7.78-7.78 2.81-2.81c.8-.78.8-2.07 0-2.86zM5.41 20L4 18.59l7.72-7.72 1.47 1.35L5.41 20z\"/>\n",
              "  </svg>\n",
              "      </button>\n",
              "      \n",
              "  <style>\n",
              "    .colab-df-container {\n",
              "      display:flex;\n",
              "      flex-wrap:wrap;\n",
              "      gap: 12px;\n",
              "    }\n",
              "\n",
              "    .colab-df-convert {\n",
              "      background-color: #E8F0FE;\n",
              "      border: none;\n",
              "      border-radius: 50%;\n",
              "      cursor: pointer;\n",
              "      display: none;\n",
              "      fill: #1967D2;\n",
              "      height: 32px;\n",
              "      padding: 0 0 0 0;\n",
              "      width: 32px;\n",
              "    }\n",
              "\n",
              "    .colab-df-convert:hover {\n",
              "      background-color: #E2EBFA;\n",
              "      box-shadow: 0px 1px 2px rgba(60, 64, 67, 0.3), 0px 1px 3px 1px rgba(60, 64, 67, 0.15);\n",
              "      fill: #174EA6;\n",
              "    }\n",
              "\n",
              "    [theme=dark] .colab-df-convert {\n",
              "      background-color: #3B4455;\n",
              "      fill: #D2E3FC;\n",
              "    }\n",
              "\n",
              "    [theme=dark] .colab-df-convert:hover {\n",
              "      background-color: #434B5C;\n",
              "      box-shadow: 0px 1px 3px 1px rgba(0, 0, 0, 0.15);\n",
              "      filter: drop-shadow(0px 1px 2px rgba(0, 0, 0, 0.3));\n",
              "      fill: #FFFFFF;\n",
              "    }\n",
              "  </style>\n",
              "\n",
              "      <script>\n",
              "        const buttonEl =\n",
              "          document.querySelector('#df-8f3a4baa-5562-4152-a3c3-5b3b2218e199 button.colab-df-convert');\n",
              "        buttonEl.style.display =\n",
              "          google.colab.kernel.accessAllowed ? 'block' : 'none';\n",
              "\n",
              "        async function convertToInteractive(key) {\n",
              "          const element = document.querySelector('#df-8f3a4baa-5562-4152-a3c3-5b3b2218e199');\n",
              "          const dataTable =\n",
              "            await google.colab.kernel.invokeFunction('convertToInteractive',\n",
              "                                                     [key], {});\n",
              "          if (!dataTable) return;\n",
              "\n",
              "          const docLinkHtml = 'Like what you see? Visit the ' +\n",
              "            '<a target=\"_blank\" href=https://colab.research.google.com/notebooks/data_table.ipynb>data table notebook</a>'\n",
              "            + ' to learn more about interactive tables.';\n",
              "          element.innerHTML = '';\n",
              "          dataTable['output_type'] = 'display_data';\n",
              "          await google.colab.output.renderOutput(dataTable, element);\n",
              "          const docLink = document.createElement('div');\n",
              "          docLink.innerHTML = docLinkHtml;\n",
              "          element.appendChild(docLink);\n",
              "        }\n",
              "      </script>\n",
              "    </div>\n",
              "  </div>\n",
              "  "
            ]
          },
          "metadata": {},
          "execution_count": 33
        }
      ]
    },
    {
      "cell_type": "markdown",
      "source": [
        "###Filling null values\n",
        "\n",
        "  \n",
        "\n",
        "*   If null_vlues<5%, we can remove the values\n",
        "*   If null_vlues>40%, drop the column\n",
        "*   Else, commute the values with meadian mode , mean, max occurring value, etc.\n",
        "\n",
        "\n",
        "\n",
        "\n"
      ],
      "metadata": {
        "id": "s_YDpclJcbg_"
      }
    },
    {
      "cell_type": "markdown",
      "source": [
        "Dropping Price Drop column as the null_values>40%"
      ],
      "metadata": {
        "id": "x1IgnDAO2fmP"
      }
    },
    {
      "cell_type": "code",
      "source": [
        "cars.drop(axis=1,labels=\"Price Drop\",inplace=True)"
      ],
      "metadata": {
        "id": "PwSbs1JbYEno"
      },
      "execution_count": null,
      "outputs": []
    },
    {
      "cell_type": "markdown",
      "source": [
        "Stripping unnecessary words from Mileage Culumn and filling null values"
      ],
      "metadata": {
        "id": "J0A3nQD52o8F"
      }
    },
    {
      "cell_type": "code",
      "source": [
        "cars[\"Mileage\"]=cars[\"Mileage\"].astype(str)"
      ],
      "metadata": {
        "id": "SnMjzzfGxv1-"
      },
      "execution_count": null,
      "outputs": []
    },
    {
      "cell_type": "code",
      "source": [
        "cars[\"Mileage\"]=cars[\"Mileage\"].apply(lambda x:x.strip(\"mi.)\"))"
      ],
      "metadata": {
        "id": "tjuDLRikx0AS"
      },
      "execution_count": null,
      "outputs": []
    },
    {
      "cell_type": "code",
      "source": [
        "cars[\"Mileage\"]=cars[\"Mileage\"].str.replace(\",\",\"\")"
      ],
      "metadata": {
        "id": "qVq33aXex4MV"
      },
      "execution_count": null,
      "outputs": []
    },
    {
      "cell_type": "code",
      "source": [
        "#####cars['Mileage']=cars['Mileage'].fillna(cars['Mileage'].mean(), inplace=True) "
      ],
      "metadata": {
        "id": "eyZGpiag5Th_"
      },
      "execution_count": null,
      "outputs": []
    },
    {
      "cell_type": "code",
      "source": [
        "####cars['Mileage']=cars['Mileage'].fillna(pd.to_numeric(cars['Mileage'], errors='coerce').mean())"
      ],
      "metadata": {
        "id": "1rySlBT65VYW"
      },
      "execution_count": null,
      "outputs": []
    },
    {
      "cell_type": "code",
      "source": [
        "####cars['Mileage']=cars['Mileage'].fillna(pd.to_numeric(cars['Mileage'], errors='coerce').mean())"
      ],
      "metadata": {
        "id": "BaQ70DXB5Xto"
      },
      "execution_count": null,
      "outputs": []
    },
    {
      "cell_type": "code",
      "source": [
        "#cars['Mileage']=cars['Mileage'].fillna(cars[\"Mileage\"].value_counts().max())"
      ],
      "metadata": {
        "id": "o1wjLBfd5aTF"
      },
      "execution_count": null,
      "outputs": []
    },
    {
      "cell_type": "code",
      "source": [
        "cars[\"Mileage\"]=cars[\"Mileage\"].astype(float)"
      ],
      "metadata": {
        "id": "S6rY8QBkzH2L"
      },
      "execution_count": null,
      "outputs": []
    },
    {
      "cell_type": "code",
      "source": [
        "cars[\"Mileage\"].median()"
      ],
      "metadata": {
        "colab": {
          "base_uri": "https://localhost:8080/"
        },
        "id": "w5jkhJGXyqNo",
        "outputId": "0bdaf562-8bec-442b-9878-219a223f3ac7"
      },
      "execution_count": null,
      "outputs": [
        {
          "output_type": "execute_result",
          "data": {
            "text/plain": [
              "29207.0"
            ]
          },
          "metadata": {},
          "execution_count": 43
        }
      ]
    },
    {
      "cell_type": "code",
      "source": [
        "cars['Mileage']=cars['Mileage'].fillna(cars[\"Mileage\"].median())"
      ],
      "metadata": {
        "id": "d5dPiXRRzq-D"
      },
      "execution_count": null,
      "outputs": []
    },
    {
      "cell_type": "code",
      "source": [],
      "metadata": {
        "id": "oCgYG6BJ3aQK"
      },
      "execution_count": null,
      "outputs": []
    },
    {
      "cell_type": "markdown",
      "source": [
        "\n",
        "Filling null values in Rating column"
      ],
      "metadata": {
        "id": "UWa1VT0C22oS"
      }
    },
    {
      "cell_type": "code",
      "source": [
        "#cars['Rating']=cars['Rating'].fillna(cars[\"Rating\"].value_counts().max())"
      ],
      "metadata": {
        "id": "hVjtwfufFqGh"
      },
      "execution_count": null,
      "outputs": []
    },
    {
      "cell_type": "code",
      "source": [
        "\n",
        "cars[\"Rating\"] = cars[\"Rating\"].astype(float)"
      ],
      "metadata": {
        "id": "HRrtKAgzSkfR"
      },
      "execution_count": null,
      "outputs": []
    },
    {
      "cell_type": "code",
      "source": [
        "\n",
        "cars[\"Rating\"].median()"
      ],
      "metadata": {
        "colab": {
          "base_uri": "https://localhost:8080/"
        },
        "id": "HBOm8hjnzvQE",
        "outputId": "e35cc78b-c1bd-4946-def8-2b5decfa6a8f"
      },
      "execution_count": null,
      "outputs": [
        {
          "output_type": "execute_result",
          "data": {
            "text/plain": [
              "4.6"
            ]
          },
          "metadata": {},
          "execution_count": 47
        }
      ]
    },
    {
      "cell_type": "code",
      "source": [
        "\n",
        "cars['Rating']=cars['Rating'].fillna(cars[\"Rating\"].median())"
      ],
      "metadata": {
        "id": "x2RP0FcGuF4u"
      },
      "execution_count": null,
      "outputs": []
    },
    {
      "cell_type": "code",
      "source": [
        "\n",
        "\n",
        "\n",
        "\n",
        "\n",
        "\n",
        "\n"
      ],
      "metadata": {
        "id": "tw6BxMnq3UnP"
      },
      "execution_count": null,
      "outputs": []
    },
    {
      "cell_type": "markdown",
      "source": [
        "Stripping unnecessary words from 'Number of Reviews' Culumn and filling null values"
      ],
      "metadata": {
        "id": "tAADBoWU3Dml"
      }
    },
    {
      "cell_type": "code",
      "source": [
        "cars[\"Number of Reviews\"]=cars[\"Number of Reviews\"].astype(str)"
      ],
      "metadata": {
        "id": "LCws8XgFxeq5"
      },
      "execution_count": null,
      "outputs": []
    },
    {
      "cell_type": "code",
      "source": [
        "cars[\"Number of Reviews\"]=cars[\"Number of Reviews\"].apply(lambda x:x.strip(\"reviews)\").strip(\"(\"))"
      ],
      "metadata": {
        "id": "BtjZ0YYHxh6u"
      },
      "execution_count": null,
      "outputs": []
    },
    {
      "cell_type": "code",
      "source": [
        "cars[\"Number of Reviews\"]=cars[\"Number of Reviews\"].str.replace(\",\",\"\")"
      ],
      "metadata": {
        "id": "KyC0YFBnxr0-"
      },
      "execution_count": null,
      "outputs": []
    },
    {
      "cell_type": "code",
      "source": [
        "#cars['Number of Reviews']=cars['Number of Reviews'].fillna(cars[\"Number of Reviews\"].value_counts().max())"
      ],
      "metadata": {
        "id": "TlaKjC7gFqxG"
      },
      "execution_count": null,
      "outputs": []
    },
    {
      "cell_type": "code",
      "source": [
        "cars[\"Number of Reviews\"].median()"
      ],
      "metadata": {
        "colab": {
          "base_uri": "https://localhost:8080/"
        },
        "id": "nXy_9RH_0C82",
        "outputId": "5652b088-9202-4ab3-8d49-c8ec06590e01"
      },
      "execution_count": null,
      "outputs": [
        {
          "output_type": "execute_result",
          "data": {
            "text/plain": [
              "227.0"
            ]
          },
          "metadata": {},
          "execution_count": 53
        }
      ]
    },
    {
      "cell_type": "code",
      "source": [
        "\n",
        "cars['Number of Reviews']=cars['Number of Reviews'].fillna(cars[\"Number of Reviews\"].median())"
      ],
      "metadata": {
        "id": "zRweQ7rCuOKt"
      },
      "execution_count": null,
      "outputs": []
    },
    {
      "cell_type": "markdown",
      "source": [
        "Stripping unnecessary characters from 'Final Price' Column and filling null values"
      ],
      "metadata": {
        "id": "o3TAhqkA3xT0"
      }
    },
    {
      "cell_type": "code",
      "source": [
        "cars[\"Final Price\"]=cars[\"Final Price\"].str.replace(\"$\",\"\").str.replace(\",\",\"\")"
      ],
      "metadata": {
        "id": "GfmjsFVyyA6i"
      },
      "execution_count": null,
      "outputs": []
    },
    {
      "cell_type": "code",
      "source": [
        "cars[\"Final Price\"]=cars[\"Final Price\"].astype(float)"
      ],
      "metadata": {
        "id": "eG-J4NK2ZKEw"
      },
      "execution_count": null,
      "outputs": []
    },
    {
      "cell_type": "code",
      "source": [
        "cars[\"Final Price\"].median()"
      ],
      "metadata": {
        "colab": {
          "base_uri": "https://localhost:8080/"
        },
        "id": "rHBZamlP37HA",
        "outputId": "bc158827-83b4-430e-c223-4e5c4c43df1c"
      },
      "execution_count": null,
      "outputs": [
        {
          "output_type": "execute_result",
          "data": {
            "text/plain": [
              "47635.0"
            ]
          },
          "metadata": {},
          "execution_count": 57
        }
      ]
    },
    {
      "cell_type": "code",
      "source": [
        "cars['Final Price']=cars['Final Price'].fillna(cars[\"Final Price\"].median())"
      ],
      "metadata": {
        "id": "3mer0sv4E96_"
      },
      "execution_count": null,
      "outputs": []
    },
    {
      "cell_type": "markdown",
      "source": [
        "###Checking null values in the Data Frame"
      ],
      "metadata": {
        "id": "6_RyQjFV38IO"
      }
    },
    {
      "cell_type": "code",
      "source": [
        "cars.isnull().sum()/cars.shape[0]"
      ],
      "metadata": {
        "colab": {
          "base_uri": "https://localhost:8080/"
        },
        "id": "4EwdVRijW0Yq",
        "outputId": "2a9c74e6-a3c9-4cfa-9f54-cb3c5e6cdcdb"
      },
      "execution_count": null,
      "outputs": [
        {
          "output_type": "execute_result",
          "data": {
            "text/plain": [
              "Brand                0.000000\n",
              "Model                0.000000\n",
              "Mileage              0.000000\n",
              "Final Price          0.000000\n",
              "Dealer               0.002618\n",
              "Rating               0.000000\n",
              "Number of Reviews    0.000000\n",
              "dtype: float64"
            ]
          },
          "metadata": {},
          "execution_count": 59
        }
      ]
    },
    {
      "cell_type": "code",
      "source": [
        "def find_outliers(data, col, verbose=False):\n",
        "\n",
        "  q1 = data[col].quantile(0.25)\n",
        "  q3 = data[col].quantile(0.75)\n",
        "  IQR = q3 - q1\n",
        "  lower_boundary = q1 - (1.5*IQR)\n",
        "  higher_boundary = q3 + (1.5*IQR)\n",
        "  outliers_df = data[(data[col]<lower_boundary) | (data[col]>higher_boundary)]\n",
        "  if(verbose):\n",
        "    display(outliers_df)\n",
        "    print(\"Outliers Percentage ::\", (len(outliers_df)/len(data)) * 100, \"%\")\n",
        "  return outliers_df"
      ],
      "metadata": {
        "id": "7docB2GeXeis"
      },
      "execution_count": null,
      "outputs": []
    },
    {
      "cell_type": "code",
      "source": [
        "outliers_final_price = find_outliers(cars, \"Final Price\", verbose = True)"
      ],
      "metadata": {
        "id": "9Ld9LpbJPPiM",
        "colab": {
          "base_uri": "https://localhost:8080/",
          "height": 1000
        },
        "outputId": "5c598841-7c9f-411e-f3be-e90c7ae770cf"
      },
      "execution_count": null,
      "outputs": [
        {
          "output_type": "display_data",
          "data": {
            "text/plain": [
              "        Brand                                      Model  Mileage  \\\n",
              "3        Audi                       2020 Audi R8 5.2 V10   4805.0   \n",
              "21        Bmw                    2023 BMW M8 Competition  29207.0   \n",
              "26        Bmw       2023 BMW ALPINA B8 Gran Coupe xDrive  29207.0   \n",
              "27        Bmw                           2023 BMW M5 Base  29207.0   \n",
              "101  Cadillac            2023 Cadillac Escalade V-Series  29207.0   \n",
              "114  Cadillac     2023 Cadillac CT5-V V-Series Blackwing  29207.0   \n",
              "122   Porsche                   2022 Porsche 911 Turbo S   2887.0   \n",
              "123   Porsche  2022 Porsche Taycan Cross Turismo Turbo S   1866.0   \n",
              "126   Porsche              2023 Porsche Cayenne Turbo GT  29207.0   \n",
              "141   Bentley               2020 Bentley Flying Spur W12   6002.0   \n",
              "143   Bentley             2020 Bentley Continental GT V8   5465.0   \n",
              "144   Bentley          2023 Bentley Continental GT Azure  29207.0   \n",
              "145   Bentley                   2020 Bentley Bentayga V8  12634.0   \n",
              "146   Bentley             2020 Bentley Continental GT V8   2388.0   \n",
              "147   Bentley              2023 Bentley Bentayga Hybrid   29207.0   \n",
              "148   Bentley                   2019 Bentley Bentayga V8  23974.0   \n",
              "152   Bentley                    2022 Bentley Bentayga S  29207.0   \n",
              "154   Bentley                2021 Bentley Flying Spur V8   6322.0   \n",
              "155   Bentley             2022 Bentley Continental GT V8  29207.0   \n",
              "156   Bentley                   2021 Bentley Bentayga V8  11902.0   \n",
              "157   Bentley                   2020 Bentley Bentayga V8  14892.0   \n",
              "161   Bugatti                       2019 Bugatti Chiron    1474.0   \n",
              "162   Bugatti              2008 Bugatti Veyron 16.4 NULL   3497.0   \n",
              "164   Bugatti                       2018 Bugatti Chiron    3168.0   \n",
              "165   Bugatti       2011 Bugatti Veyron 16.4 Grand Sport   6330.0   \n",
              "166   Bugatti                  2019 Bugatti Chiron Sport   4340.0   \n",
              "167   Bugatti       2010 Bugatti Veyron 16.4 Grand Sport   6061.0   \n",
              "168   Bugatti                       2018 Bugatti Chiron    6129.0   \n",
              "169   Bugatti                       2019 Bugatti Chiron    1460.0   \n",
              "170   Bugatti                  2008 Bugatti Veyron 16.4   15011.0   \n",
              "173   Bugatti                       2019 Bugatti Chiron    6245.0   \n",
              "175   Bugatti                       2019 Bugatti Chiron     334.0   \n",
              "177   Ferrari                 2018 Ferrari GTC4Lusso V12  17143.0   \n",
              "178   Ferrari                   2019 Ferrari GTC4Lusso T   9222.0   \n",
              "179   Ferrari            2014 Ferrari F12berlinetta Base   9228.0   \n",
              "180   Ferrari               2022 Ferrari F8 Tributo Base   1622.0   \n",
              "182   Ferrari            2022 Ferrari SF90 Stradale Base    694.0   \n",
              "183   Ferrari                         1983 Ferrari 400i   58947.0   \n",
              "184   Ferrari            2019 Ferrari 812 Superfast Base  10212.0   \n",
              "185   Ferrari                  2018 Ferrari 488 GTB Base  15074.0   \n",
              "186   Ferrari               2018 Ferrari 488 Spider Base  17418.0   \n",
              "187   Ferrari              2022 Ferrari SF90 Spider Base   1672.0   \n",
              "188   Ferrari                  2016 Ferrari California T   9951.0   \n",
              "189   Ferrari                  2018 Ferrari 488 GTB Base   7871.0   \n",
              "192   Ferrari                     2021 Ferrari Roma Base   5171.0   \n",
              "194   Ferrari            2016 Ferrari F12berlinetta Base  13788.0   \n",
              "195   Ferrari                  2015 Ferrari California T   7004.0   \n",
              "\n",
              "     Final Price                                             Dealer  Rating  \\\n",
              "3       179999.0                                   Modern Motorcars     4.2   \n",
              "21      150755.0                   Herb Chambers BMW MINI of Boston     4.7   \n",
              "26      149645.0                       Habberstad BMW of Huntington     4.1   \n",
              "27      135855.0                                   BMW of Waterbury     4.7   \n",
              "101     155740.0                                Paul Conte Cadillac     4.8   \n",
              "114     141360.0                                  Cadillac Pasadena     4.6   \n",
              "122     245988.0                               Porsche Redwood City     4.9   \n",
              "123     213900.0                                Porsche South Shore     4.1   \n",
              "126     213640.0                           Manhattan Motorcars Inc.     4.8   \n",
              "141     239950.0                                   Holman Motorcars     4.6   \n",
              "143     219985.0                             Maserati of Washington     4.6   \n",
              "144     312365.0                           Manhattan Motorcars Inc.     4.8   \n",
              "145     149900.0  Bespoke Motor Group - Bentley, Rolls-Royce & L...     4.6   \n",
              "146     217340.0                           Salt Lake City Motorcars     4.6   \n",
              "147     234950.0                           Manhattan Motorcars Inc.     4.8   \n",
              "148     134999.0                                   Auto House Tempe     3.6   \n",
              "152     260015.0                           Manhattan Motorcars Inc.     4.8   \n",
              "154     235888.0                                 Bentley High Point     4.6   \n",
              "155     278665.0                              Cleveland Motorsports     4.6   \n",
              "156     203910.0                                      Arrowhead BMW     3.4   \n",
              "157     149888.0  Bentley Parsippany and Paul Miller, An Authori...     5.0   \n",
              "161    3750950.0                                   Holman Motorcars     4.6   \n",
              "162    1999900.0                             Pacific Auto Group LLC     4.6   \n",
              "164    3699995.0                                         Wires Only     5.0   \n",
              "165    2499000.0                                         Wires Only     5.0   \n",
              "166    3650000.0                               Alfa Romeo of Naples     4.6   \n",
              "167    1599950.0                                   Prestige Imports     4.0   \n",
              "168    3699995.0                                Speed Gallery Miami     4.6   \n",
              "169    3799900.0     Ferrari Maserati Alfa Romeo of Fort Lauderdale     4.8   \n",
              "170    1250000.0                                         Wires Only     5.0   \n",
              "173    3499900.0                          Lamborghini Newport Beach     4.6   \n",
              "175    3900000.0                                      HGreg.com Lux     4.7   \n",
              "177     229891.0                             Ferrari Silicon Valley     4.6   \n",
              "178     229900.0                                  Boardwalk Ferrari     4.9   \n",
              "179     269000.0                                   Ferrari Westlake     4.6   \n",
              "180     455990.0                  Twin Cities Performance - Ferrari     4.6   \n",
              "182     739900.0                          Lamborghini Newport Beach     4.6   \n",
              "183     249900.0     Ferrari Maserati Alfa Romeo of Fort Lauderdale     4.8   \n",
              "184     399000.0                              Ferrari Beverly Hills     4.6   \n",
              "185     284990.0                             Ferrari of San Antonio     4.6   \n",
              "186     314900.0                                Continental Ferrari     4.6   \n",
              "187     959900.0                                     Tactical Fleet     4.6   \n",
              "188     165000.0            SCOTTSDALE SPORTS and CLASSIC MOTORCARS     5.0   \n",
              "189     259000.0                           Ferrari of San Francisco     4.9   \n",
              "192     274900.0     Ferrari Maserati Alfa Romeo of Fort Lauderdale     4.8   \n",
              "194     265900.0                                     Tactical Fleet     4.6   \n",
              "195     149995.0                               Lamborghini Sarasota     4.6   \n",
              "\n",
              "    Number of Reviews  \n",
              "3                532   \n",
              "21              2621   \n",
              "26              1326   \n",
              "27               819   \n",
              "101             1549   \n",
              "114                4   \n",
              "122              155   \n",
              "123              195   \n",
              "126              388   \n",
              "141                4   \n",
              "143               nan  \n",
              "144              388   \n",
              "145               17   \n",
              "146                1   \n",
              "147              388   \n",
              "148               88   \n",
              "152              388   \n",
              "154               nan  \n",
              "155               32   \n",
              "156              117   \n",
              "157               19   \n",
              "161                4   \n",
              "162                1   \n",
              "164               12   \n",
              "165               12   \n",
              "166               35   \n",
              "167               34   \n",
              "168                0   \n",
              "169             2034   \n",
              "170               12   \n",
              "173               20   \n",
              "175              433   \n",
              "177                1   \n",
              "178             1185   \n",
              "179                2   \n",
              "180                0   \n",
              "182               20   \n",
              "183             2034   \n",
              "184                2   \n",
              "185                8   \n",
              "186               12   \n",
              "187                9   \n",
              "188              106   \n",
              "189              589   \n",
              "192             2034   \n",
              "194                0   \n",
              "195                5   "
            ],
            "text/html": [
              "\n",
              "  <div id=\"df-f9816975-e66e-4a97-af8b-ab4ab0893cdd\">\n",
              "    <div class=\"colab-df-container\">\n",
              "      <div>\n",
              "<style scoped>\n",
              "    .dataframe tbody tr th:only-of-type {\n",
              "        vertical-align: middle;\n",
              "    }\n",
              "\n",
              "    .dataframe tbody tr th {\n",
              "        vertical-align: top;\n",
              "    }\n",
              "\n",
              "    .dataframe thead th {\n",
              "        text-align: right;\n",
              "    }\n",
              "</style>\n",
              "<table border=\"1\" class=\"dataframe\">\n",
              "  <thead>\n",
              "    <tr style=\"text-align: right;\">\n",
              "      <th></th>\n",
              "      <th>Brand</th>\n",
              "      <th>Model</th>\n",
              "      <th>Mileage</th>\n",
              "      <th>Final Price</th>\n",
              "      <th>Dealer</th>\n",
              "      <th>Rating</th>\n",
              "      <th>Number of Reviews</th>\n",
              "    </tr>\n",
              "  </thead>\n",
              "  <tbody>\n",
              "    <tr>\n",
              "      <th>3</th>\n",
              "      <td>Audi</td>\n",
              "      <td>2020 Audi R8 5.2 V10</td>\n",
              "      <td>4805.0</td>\n",
              "      <td>179999.0</td>\n",
              "      <td>Modern Motorcars</td>\n",
              "      <td>4.2</td>\n",
              "      <td>532</td>\n",
              "    </tr>\n",
              "    <tr>\n",
              "      <th>21</th>\n",
              "      <td>Bmw</td>\n",
              "      <td>2023 BMW M8 Competition</td>\n",
              "      <td>29207.0</td>\n",
              "      <td>150755.0</td>\n",
              "      <td>Herb Chambers BMW MINI of Boston</td>\n",
              "      <td>4.7</td>\n",
              "      <td>2621</td>\n",
              "    </tr>\n",
              "    <tr>\n",
              "      <th>26</th>\n",
              "      <td>Bmw</td>\n",
              "      <td>2023 BMW ALPINA B8 Gran Coupe xDrive</td>\n",
              "      <td>29207.0</td>\n",
              "      <td>149645.0</td>\n",
              "      <td>Habberstad BMW of Huntington</td>\n",
              "      <td>4.1</td>\n",
              "      <td>1326</td>\n",
              "    </tr>\n",
              "    <tr>\n",
              "      <th>27</th>\n",
              "      <td>Bmw</td>\n",
              "      <td>2023 BMW M5 Base</td>\n",
              "      <td>29207.0</td>\n",
              "      <td>135855.0</td>\n",
              "      <td>BMW of Waterbury</td>\n",
              "      <td>4.7</td>\n",
              "      <td>819</td>\n",
              "    </tr>\n",
              "    <tr>\n",
              "      <th>101</th>\n",
              "      <td>Cadillac</td>\n",
              "      <td>2023 Cadillac Escalade V-Series</td>\n",
              "      <td>29207.0</td>\n",
              "      <td>155740.0</td>\n",
              "      <td>Paul Conte Cadillac</td>\n",
              "      <td>4.8</td>\n",
              "      <td>1549</td>\n",
              "    </tr>\n",
              "    <tr>\n",
              "      <th>114</th>\n",
              "      <td>Cadillac</td>\n",
              "      <td>2023 Cadillac CT5-V V-Series Blackwing</td>\n",
              "      <td>29207.0</td>\n",
              "      <td>141360.0</td>\n",
              "      <td>Cadillac Pasadena</td>\n",
              "      <td>4.6</td>\n",
              "      <td>4</td>\n",
              "    </tr>\n",
              "    <tr>\n",
              "      <th>122</th>\n",
              "      <td>Porsche</td>\n",
              "      <td>2022 Porsche 911 Turbo S</td>\n",
              "      <td>2887.0</td>\n",
              "      <td>245988.0</td>\n",
              "      <td>Porsche Redwood City</td>\n",
              "      <td>4.9</td>\n",
              "      <td>155</td>\n",
              "    </tr>\n",
              "    <tr>\n",
              "      <th>123</th>\n",
              "      <td>Porsche</td>\n",
              "      <td>2022 Porsche Taycan Cross Turismo Turbo S</td>\n",
              "      <td>1866.0</td>\n",
              "      <td>213900.0</td>\n",
              "      <td>Porsche South Shore</td>\n",
              "      <td>4.1</td>\n",
              "      <td>195</td>\n",
              "    </tr>\n",
              "    <tr>\n",
              "      <th>126</th>\n",
              "      <td>Porsche</td>\n",
              "      <td>2023 Porsche Cayenne Turbo GT</td>\n",
              "      <td>29207.0</td>\n",
              "      <td>213640.0</td>\n",
              "      <td>Manhattan Motorcars Inc.</td>\n",
              "      <td>4.8</td>\n",
              "      <td>388</td>\n",
              "    </tr>\n",
              "    <tr>\n",
              "      <th>141</th>\n",
              "      <td>Bentley</td>\n",
              "      <td>2020 Bentley Flying Spur W12</td>\n",
              "      <td>6002.0</td>\n",
              "      <td>239950.0</td>\n",
              "      <td>Holman Motorcars</td>\n",
              "      <td>4.6</td>\n",
              "      <td>4</td>\n",
              "    </tr>\n",
              "    <tr>\n",
              "      <th>143</th>\n",
              "      <td>Bentley</td>\n",
              "      <td>2020 Bentley Continental GT V8</td>\n",
              "      <td>5465.0</td>\n",
              "      <td>219985.0</td>\n",
              "      <td>Maserati of Washington</td>\n",
              "      <td>4.6</td>\n",
              "      <td>nan</td>\n",
              "    </tr>\n",
              "    <tr>\n",
              "      <th>144</th>\n",
              "      <td>Bentley</td>\n",
              "      <td>2023 Bentley Continental GT Azure</td>\n",
              "      <td>29207.0</td>\n",
              "      <td>312365.0</td>\n",
              "      <td>Manhattan Motorcars Inc.</td>\n",
              "      <td>4.8</td>\n",
              "      <td>388</td>\n",
              "    </tr>\n",
              "    <tr>\n",
              "      <th>145</th>\n",
              "      <td>Bentley</td>\n",
              "      <td>2020 Bentley Bentayga V8</td>\n",
              "      <td>12634.0</td>\n",
              "      <td>149900.0</td>\n",
              "      <td>Bespoke Motor Group - Bentley, Rolls-Royce &amp; L...</td>\n",
              "      <td>4.6</td>\n",
              "      <td>17</td>\n",
              "    </tr>\n",
              "    <tr>\n",
              "      <th>146</th>\n",
              "      <td>Bentley</td>\n",
              "      <td>2020 Bentley Continental GT V8</td>\n",
              "      <td>2388.0</td>\n",
              "      <td>217340.0</td>\n",
              "      <td>Salt Lake City Motorcars</td>\n",
              "      <td>4.6</td>\n",
              "      <td>1</td>\n",
              "    </tr>\n",
              "    <tr>\n",
              "      <th>147</th>\n",
              "      <td>Bentley</td>\n",
              "      <td>2023 Bentley Bentayga Hybrid</td>\n",
              "      <td>29207.0</td>\n",
              "      <td>234950.0</td>\n",
              "      <td>Manhattan Motorcars Inc.</td>\n",
              "      <td>4.8</td>\n",
              "      <td>388</td>\n",
              "    </tr>\n",
              "    <tr>\n",
              "      <th>148</th>\n",
              "      <td>Bentley</td>\n",
              "      <td>2019 Bentley Bentayga V8</td>\n",
              "      <td>23974.0</td>\n",
              "      <td>134999.0</td>\n",
              "      <td>Auto House Tempe</td>\n",
              "      <td>3.6</td>\n",
              "      <td>88</td>\n",
              "    </tr>\n",
              "    <tr>\n",
              "      <th>152</th>\n",
              "      <td>Bentley</td>\n",
              "      <td>2022 Bentley Bentayga S</td>\n",
              "      <td>29207.0</td>\n",
              "      <td>260015.0</td>\n",
              "      <td>Manhattan Motorcars Inc.</td>\n",
              "      <td>4.8</td>\n",
              "      <td>388</td>\n",
              "    </tr>\n",
              "    <tr>\n",
              "      <th>154</th>\n",
              "      <td>Bentley</td>\n",
              "      <td>2021 Bentley Flying Spur V8</td>\n",
              "      <td>6322.0</td>\n",
              "      <td>235888.0</td>\n",
              "      <td>Bentley High Point</td>\n",
              "      <td>4.6</td>\n",
              "      <td>nan</td>\n",
              "    </tr>\n",
              "    <tr>\n",
              "      <th>155</th>\n",
              "      <td>Bentley</td>\n",
              "      <td>2022 Bentley Continental GT V8</td>\n",
              "      <td>29207.0</td>\n",
              "      <td>278665.0</td>\n",
              "      <td>Cleveland Motorsports</td>\n",
              "      <td>4.6</td>\n",
              "      <td>32</td>\n",
              "    </tr>\n",
              "    <tr>\n",
              "      <th>156</th>\n",
              "      <td>Bentley</td>\n",
              "      <td>2021 Bentley Bentayga V8</td>\n",
              "      <td>11902.0</td>\n",
              "      <td>203910.0</td>\n",
              "      <td>Arrowhead BMW</td>\n",
              "      <td>3.4</td>\n",
              "      <td>117</td>\n",
              "    </tr>\n",
              "    <tr>\n",
              "      <th>157</th>\n",
              "      <td>Bentley</td>\n",
              "      <td>2020 Bentley Bentayga V8</td>\n",
              "      <td>14892.0</td>\n",
              "      <td>149888.0</td>\n",
              "      <td>Bentley Parsippany and Paul Miller, An Authori...</td>\n",
              "      <td>5.0</td>\n",
              "      <td>19</td>\n",
              "    </tr>\n",
              "    <tr>\n",
              "      <th>161</th>\n",
              "      <td>Bugatti</td>\n",
              "      <td>2019 Bugatti Chiron</td>\n",
              "      <td>1474.0</td>\n",
              "      <td>3750950.0</td>\n",
              "      <td>Holman Motorcars</td>\n",
              "      <td>4.6</td>\n",
              "      <td>4</td>\n",
              "    </tr>\n",
              "    <tr>\n",
              "      <th>162</th>\n",
              "      <td>Bugatti</td>\n",
              "      <td>2008 Bugatti Veyron 16.4 NULL</td>\n",
              "      <td>3497.0</td>\n",
              "      <td>1999900.0</td>\n",
              "      <td>Pacific Auto Group LLC</td>\n",
              "      <td>4.6</td>\n",
              "      <td>1</td>\n",
              "    </tr>\n",
              "    <tr>\n",
              "      <th>164</th>\n",
              "      <td>Bugatti</td>\n",
              "      <td>2018 Bugatti Chiron</td>\n",
              "      <td>3168.0</td>\n",
              "      <td>3699995.0</td>\n",
              "      <td>Wires Only</td>\n",
              "      <td>5.0</td>\n",
              "      <td>12</td>\n",
              "    </tr>\n",
              "    <tr>\n",
              "      <th>165</th>\n",
              "      <td>Bugatti</td>\n",
              "      <td>2011 Bugatti Veyron 16.4 Grand Sport</td>\n",
              "      <td>6330.0</td>\n",
              "      <td>2499000.0</td>\n",
              "      <td>Wires Only</td>\n",
              "      <td>5.0</td>\n",
              "      <td>12</td>\n",
              "    </tr>\n",
              "    <tr>\n",
              "      <th>166</th>\n",
              "      <td>Bugatti</td>\n",
              "      <td>2019 Bugatti Chiron Sport</td>\n",
              "      <td>4340.0</td>\n",
              "      <td>3650000.0</td>\n",
              "      <td>Alfa Romeo of Naples</td>\n",
              "      <td>4.6</td>\n",
              "      <td>35</td>\n",
              "    </tr>\n",
              "    <tr>\n",
              "      <th>167</th>\n",
              "      <td>Bugatti</td>\n",
              "      <td>2010 Bugatti Veyron 16.4 Grand Sport</td>\n",
              "      <td>6061.0</td>\n",
              "      <td>1599950.0</td>\n",
              "      <td>Prestige Imports</td>\n",
              "      <td>4.0</td>\n",
              "      <td>34</td>\n",
              "    </tr>\n",
              "    <tr>\n",
              "      <th>168</th>\n",
              "      <td>Bugatti</td>\n",
              "      <td>2018 Bugatti Chiron</td>\n",
              "      <td>6129.0</td>\n",
              "      <td>3699995.0</td>\n",
              "      <td>Speed Gallery Miami</td>\n",
              "      <td>4.6</td>\n",
              "      <td>0</td>\n",
              "    </tr>\n",
              "    <tr>\n",
              "      <th>169</th>\n",
              "      <td>Bugatti</td>\n",
              "      <td>2019 Bugatti Chiron</td>\n",
              "      <td>1460.0</td>\n",
              "      <td>3799900.0</td>\n",
              "      <td>Ferrari Maserati Alfa Romeo of Fort Lauderdale</td>\n",
              "      <td>4.8</td>\n",
              "      <td>2034</td>\n",
              "    </tr>\n",
              "    <tr>\n",
              "      <th>170</th>\n",
              "      <td>Bugatti</td>\n",
              "      <td>2008 Bugatti Veyron 16.4</td>\n",
              "      <td>15011.0</td>\n",
              "      <td>1250000.0</td>\n",
              "      <td>Wires Only</td>\n",
              "      <td>5.0</td>\n",
              "      <td>12</td>\n",
              "    </tr>\n",
              "    <tr>\n",
              "      <th>173</th>\n",
              "      <td>Bugatti</td>\n",
              "      <td>2019 Bugatti Chiron</td>\n",
              "      <td>6245.0</td>\n",
              "      <td>3499900.0</td>\n",
              "      <td>Lamborghini Newport Beach</td>\n",
              "      <td>4.6</td>\n",
              "      <td>20</td>\n",
              "    </tr>\n",
              "    <tr>\n",
              "      <th>175</th>\n",
              "      <td>Bugatti</td>\n",
              "      <td>2019 Bugatti Chiron</td>\n",
              "      <td>334.0</td>\n",
              "      <td>3900000.0</td>\n",
              "      <td>HGreg.com Lux</td>\n",
              "      <td>4.7</td>\n",
              "      <td>433</td>\n",
              "    </tr>\n",
              "    <tr>\n",
              "      <th>177</th>\n",
              "      <td>Ferrari</td>\n",
              "      <td>2018 Ferrari GTC4Lusso V12</td>\n",
              "      <td>17143.0</td>\n",
              "      <td>229891.0</td>\n",
              "      <td>Ferrari Silicon Valley</td>\n",
              "      <td>4.6</td>\n",
              "      <td>1</td>\n",
              "    </tr>\n",
              "    <tr>\n",
              "      <th>178</th>\n",
              "      <td>Ferrari</td>\n",
              "      <td>2019 Ferrari GTC4Lusso T</td>\n",
              "      <td>9222.0</td>\n",
              "      <td>229900.0</td>\n",
              "      <td>Boardwalk Ferrari</td>\n",
              "      <td>4.9</td>\n",
              "      <td>1185</td>\n",
              "    </tr>\n",
              "    <tr>\n",
              "      <th>179</th>\n",
              "      <td>Ferrari</td>\n",
              "      <td>2014 Ferrari F12berlinetta Base</td>\n",
              "      <td>9228.0</td>\n",
              "      <td>269000.0</td>\n",
              "      <td>Ferrari Westlake</td>\n",
              "      <td>4.6</td>\n",
              "      <td>2</td>\n",
              "    </tr>\n",
              "    <tr>\n",
              "      <th>180</th>\n",
              "      <td>Ferrari</td>\n",
              "      <td>2022 Ferrari F8 Tributo Base</td>\n",
              "      <td>1622.0</td>\n",
              "      <td>455990.0</td>\n",
              "      <td>Twin Cities Performance - Ferrari</td>\n",
              "      <td>4.6</td>\n",
              "      <td>0</td>\n",
              "    </tr>\n",
              "    <tr>\n",
              "      <th>182</th>\n",
              "      <td>Ferrari</td>\n",
              "      <td>2022 Ferrari SF90 Stradale Base</td>\n",
              "      <td>694.0</td>\n",
              "      <td>739900.0</td>\n",
              "      <td>Lamborghini Newport Beach</td>\n",
              "      <td>4.6</td>\n",
              "      <td>20</td>\n",
              "    </tr>\n",
              "    <tr>\n",
              "      <th>183</th>\n",
              "      <td>Ferrari</td>\n",
              "      <td>1983 Ferrari 400i</td>\n",
              "      <td>58947.0</td>\n",
              "      <td>249900.0</td>\n",
              "      <td>Ferrari Maserati Alfa Romeo of Fort Lauderdale</td>\n",
              "      <td>4.8</td>\n",
              "      <td>2034</td>\n",
              "    </tr>\n",
              "    <tr>\n",
              "      <th>184</th>\n",
              "      <td>Ferrari</td>\n",
              "      <td>2019 Ferrari 812 Superfast Base</td>\n",
              "      <td>10212.0</td>\n",
              "      <td>399000.0</td>\n",
              "      <td>Ferrari Beverly Hills</td>\n",
              "      <td>4.6</td>\n",
              "      <td>2</td>\n",
              "    </tr>\n",
              "    <tr>\n",
              "      <th>185</th>\n",
              "      <td>Ferrari</td>\n",
              "      <td>2018 Ferrari 488 GTB Base</td>\n",
              "      <td>15074.0</td>\n",
              "      <td>284990.0</td>\n",
              "      <td>Ferrari of San Antonio</td>\n",
              "      <td>4.6</td>\n",
              "      <td>8</td>\n",
              "    </tr>\n",
              "    <tr>\n",
              "      <th>186</th>\n",
              "      <td>Ferrari</td>\n",
              "      <td>2018 Ferrari 488 Spider Base</td>\n",
              "      <td>17418.0</td>\n",
              "      <td>314900.0</td>\n",
              "      <td>Continental Ferrari</td>\n",
              "      <td>4.6</td>\n",
              "      <td>12</td>\n",
              "    </tr>\n",
              "    <tr>\n",
              "      <th>187</th>\n",
              "      <td>Ferrari</td>\n",
              "      <td>2022 Ferrari SF90 Spider Base</td>\n",
              "      <td>1672.0</td>\n",
              "      <td>959900.0</td>\n",
              "      <td>Tactical Fleet</td>\n",
              "      <td>4.6</td>\n",
              "      <td>9</td>\n",
              "    </tr>\n",
              "    <tr>\n",
              "      <th>188</th>\n",
              "      <td>Ferrari</td>\n",
              "      <td>2016 Ferrari California T</td>\n",
              "      <td>9951.0</td>\n",
              "      <td>165000.0</td>\n",
              "      <td>SCOTTSDALE SPORTS and CLASSIC MOTORCARS</td>\n",
              "      <td>5.0</td>\n",
              "      <td>106</td>\n",
              "    </tr>\n",
              "    <tr>\n",
              "      <th>189</th>\n",
              "      <td>Ferrari</td>\n",
              "      <td>2018 Ferrari 488 GTB Base</td>\n",
              "      <td>7871.0</td>\n",
              "      <td>259000.0</td>\n",
              "      <td>Ferrari of San Francisco</td>\n",
              "      <td>4.9</td>\n",
              "      <td>589</td>\n",
              "    </tr>\n",
              "    <tr>\n",
              "      <th>192</th>\n",
              "      <td>Ferrari</td>\n",
              "      <td>2021 Ferrari Roma Base</td>\n",
              "      <td>5171.0</td>\n",
              "      <td>274900.0</td>\n",
              "      <td>Ferrari Maserati Alfa Romeo of Fort Lauderdale</td>\n",
              "      <td>4.8</td>\n",
              "      <td>2034</td>\n",
              "    </tr>\n",
              "    <tr>\n",
              "      <th>194</th>\n",
              "      <td>Ferrari</td>\n",
              "      <td>2016 Ferrari F12berlinetta Base</td>\n",
              "      <td>13788.0</td>\n",
              "      <td>265900.0</td>\n",
              "      <td>Tactical Fleet</td>\n",
              "      <td>4.6</td>\n",
              "      <td>0</td>\n",
              "    </tr>\n",
              "    <tr>\n",
              "      <th>195</th>\n",
              "      <td>Ferrari</td>\n",
              "      <td>2015 Ferrari California T</td>\n",
              "      <td>7004.0</td>\n",
              "      <td>149995.0</td>\n",
              "      <td>Lamborghini Sarasota</td>\n",
              "      <td>4.6</td>\n",
              "      <td>5</td>\n",
              "    </tr>\n",
              "  </tbody>\n",
              "</table>\n",
              "</div>\n",
              "      <button class=\"colab-df-convert\" onclick=\"convertToInteractive('df-f9816975-e66e-4a97-af8b-ab4ab0893cdd')\"\n",
              "              title=\"Convert this dataframe to an interactive table.\"\n",
              "              style=\"display:none;\">\n",
              "        \n",
              "  <svg xmlns=\"http://www.w3.org/2000/svg\" height=\"24px\"viewBox=\"0 0 24 24\"\n",
              "       width=\"24px\">\n",
              "    <path d=\"M0 0h24v24H0V0z\" fill=\"none\"/>\n",
              "    <path d=\"M18.56 5.44l.94 2.06.94-2.06 2.06-.94-2.06-.94-.94-2.06-.94 2.06-2.06.94zm-11 1L8.5 8.5l.94-2.06 2.06-.94-2.06-.94L8.5 2.5l-.94 2.06-2.06.94zm10 10l.94 2.06.94-2.06 2.06-.94-2.06-.94-.94-2.06-.94 2.06-2.06.94z\"/><path d=\"M17.41 7.96l-1.37-1.37c-.4-.4-.92-.59-1.43-.59-.52 0-1.04.2-1.43.59L10.3 9.45l-7.72 7.72c-.78.78-.78 2.05 0 2.83L4 21.41c.39.39.9.59 1.41.59.51 0 1.02-.2 1.41-.59l7.78-7.78 2.81-2.81c.8-.78.8-2.07 0-2.86zM5.41 20L4 18.59l7.72-7.72 1.47 1.35L5.41 20z\"/>\n",
              "  </svg>\n",
              "      </button>\n",
              "      \n",
              "  <style>\n",
              "    .colab-df-container {\n",
              "      display:flex;\n",
              "      flex-wrap:wrap;\n",
              "      gap: 12px;\n",
              "    }\n",
              "\n",
              "    .colab-df-convert {\n",
              "      background-color: #E8F0FE;\n",
              "      border: none;\n",
              "      border-radius: 50%;\n",
              "      cursor: pointer;\n",
              "      display: none;\n",
              "      fill: #1967D2;\n",
              "      height: 32px;\n",
              "      padding: 0 0 0 0;\n",
              "      width: 32px;\n",
              "    }\n",
              "\n",
              "    .colab-df-convert:hover {\n",
              "      background-color: #E2EBFA;\n",
              "      box-shadow: 0px 1px 2px rgba(60, 64, 67, 0.3), 0px 1px 3px 1px rgba(60, 64, 67, 0.15);\n",
              "      fill: #174EA6;\n",
              "    }\n",
              "\n",
              "    [theme=dark] .colab-df-convert {\n",
              "      background-color: #3B4455;\n",
              "      fill: #D2E3FC;\n",
              "    }\n",
              "\n",
              "    [theme=dark] .colab-df-convert:hover {\n",
              "      background-color: #434B5C;\n",
              "      box-shadow: 0px 1px 3px 1px rgba(0, 0, 0, 0.15);\n",
              "      filter: drop-shadow(0px 1px 2px rgba(0, 0, 0, 0.3));\n",
              "      fill: #FFFFFF;\n",
              "    }\n",
              "  </style>\n",
              "\n",
              "      <script>\n",
              "        const buttonEl =\n",
              "          document.querySelector('#df-f9816975-e66e-4a97-af8b-ab4ab0893cdd button.colab-df-convert');\n",
              "        buttonEl.style.display =\n",
              "          google.colab.kernel.accessAllowed ? 'block' : 'none';\n",
              "\n",
              "        async function convertToInteractive(key) {\n",
              "          const element = document.querySelector('#df-f9816975-e66e-4a97-af8b-ab4ab0893cdd');\n",
              "          const dataTable =\n",
              "            await google.colab.kernel.invokeFunction('convertToInteractive',\n",
              "                                                     [key], {});\n",
              "          if (!dataTable) return;\n",
              "\n",
              "          const docLinkHtml = 'Like what you see? Visit the ' +\n",
              "            '<a target=\"_blank\" href=https://colab.research.google.com/notebooks/data_table.ipynb>data table notebook</a>'\n",
              "            + ' to learn more about interactive tables.';\n",
              "          element.innerHTML = '';\n",
              "          dataTable['output_type'] = 'display_data';\n",
              "          await google.colab.output.renderOutput(dataTable, element);\n",
              "          const docLink = document.createElement('div');\n",
              "          docLink.innerHTML = docLinkHtml;\n",
              "          element.appendChild(docLink);\n",
              "        }\n",
              "      </script>\n",
              "    </div>\n",
              "  </div>\n",
              "  "
            ]
          },
          "metadata": {}
        },
        {
          "output_type": "stream",
          "name": "stdout",
          "text": [
            "Outliers Percentage :: 12.30366492146597 %\n"
          ]
        }
      ]
    },
    {
      "cell_type": "code",
      "source": [
        "\n",
        "outliers_mileage = find_outliers(cars, \"Mileage\", verbose = True)"
      ],
      "metadata": {
        "id": "MGtYDvu9PPoD",
        "colab": {
          "base_uri": "https://localhost:8080/",
          "height": 441
        },
        "outputId": "e0669b17-f6d7-4ae3-8c5b-0050efa50233"
      },
      "execution_count": null,
      "outputs": [
        {
          "output_type": "display_data",
          "data": {
            "text/plain": [
              "        Brand                                   Model  Mileage  Final Price  \\\n",
              "0        Audi          2016 Audi A7 3.0T Premium Plus  67643.0      29995.0   \n",
              "5        Audi                     2019 Audi RS 3 2.5T   2135.0      56971.0   \n",
              "8        Audi  2023 Audi Q5 45 S line quattro Premium   1271.0      51988.0   \n",
              "16       Audi          2016 Audi A6 2.0T Premium Plus  60479.0      19900.0   \n",
              "63    Hyundai             2016 Hyundai Equus Ultimate  61944.0      22492.0   \n",
              "..        ...                                     ...      ...          ...   \n",
              "333  Maserati       2020 Maserati Levante S GranSport  66138.0      53981.0   \n",
              "334  Maserati         2014 Maserati Quattroporte S Q4  66226.0      24775.0   \n",
              "336  Maserati               2016 Maserati Ghibli S Q4  68399.0      30998.0   \n",
              "340  Maserati              2017 Maserati Levante Base  68217.0      36995.0   \n",
              "379     Volvo           2017 Volvo S90 T6 Inscription  70322.0      26500.0   \n",
              "\n",
              "                                                Dealer  Rating  \\\n",
              "0                               Freeman Motor Co Salem     4.6   \n",
              "5                                     Gregory INFINITI     4.2   \n",
              "8                              Jaguar Land Rover Ocala     4.7   \n",
              "16                                     Audi Pittsburgh     4.4   \n",
              "63                                  AutoCenters Nissan     4.3   \n",
              "..                                                 ...     ...   \n",
              "333                            Mark Wahlberg Chevrolet     2.9   \n",
              "334                                Highline Auto Sales     4.5   \n",
              "336  Herb Chambers Cadillac and Herb Chambers Maser...     4.7   \n",
              "340                                 Cars Of Tampa, Inc     3.9   \n",
              "379                                     Ira Honda Saco     4.8   \n",
              "\n",
              "    Number of Reviews  \n",
              "0                  0   \n",
              "5                345   \n",
              "8                485   \n",
              "16               198   \n",
              "63               336   \n",
              "..                ...  \n",
              "333               75   \n",
              "334              334   \n",
              "336              609   \n",
              "340               26   \n",
              "379             1184   \n",
              "\n",
              "[63 rows x 7 columns]"
            ],
            "text/html": [
              "\n",
              "  <div id=\"df-2ed98cb4-e6d6-4449-9c44-9bcd0bb3e869\">\n",
              "    <div class=\"colab-df-container\">\n",
              "      <div>\n",
              "<style scoped>\n",
              "    .dataframe tbody tr th:only-of-type {\n",
              "        vertical-align: middle;\n",
              "    }\n",
              "\n",
              "    .dataframe tbody tr th {\n",
              "        vertical-align: top;\n",
              "    }\n",
              "\n",
              "    .dataframe thead th {\n",
              "        text-align: right;\n",
              "    }\n",
              "</style>\n",
              "<table border=\"1\" class=\"dataframe\">\n",
              "  <thead>\n",
              "    <tr style=\"text-align: right;\">\n",
              "      <th></th>\n",
              "      <th>Brand</th>\n",
              "      <th>Model</th>\n",
              "      <th>Mileage</th>\n",
              "      <th>Final Price</th>\n",
              "      <th>Dealer</th>\n",
              "      <th>Rating</th>\n",
              "      <th>Number of Reviews</th>\n",
              "    </tr>\n",
              "  </thead>\n",
              "  <tbody>\n",
              "    <tr>\n",
              "      <th>0</th>\n",
              "      <td>Audi</td>\n",
              "      <td>2016 Audi A7 3.0T Premium Plus</td>\n",
              "      <td>67643.0</td>\n",
              "      <td>29995.0</td>\n",
              "      <td>Freeman Motor Co Salem</td>\n",
              "      <td>4.6</td>\n",
              "      <td>0</td>\n",
              "    </tr>\n",
              "    <tr>\n",
              "      <th>5</th>\n",
              "      <td>Audi</td>\n",
              "      <td>2019 Audi RS 3 2.5T</td>\n",
              "      <td>2135.0</td>\n",
              "      <td>56971.0</td>\n",
              "      <td>Gregory INFINITI</td>\n",
              "      <td>4.2</td>\n",
              "      <td>345</td>\n",
              "    </tr>\n",
              "    <tr>\n",
              "      <th>8</th>\n",
              "      <td>Audi</td>\n",
              "      <td>2023 Audi Q5 45 S line quattro Premium</td>\n",
              "      <td>1271.0</td>\n",
              "      <td>51988.0</td>\n",
              "      <td>Jaguar Land Rover Ocala</td>\n",
              "      <td>4.7</td>\n",
              "      <td>485</td>\n",
              "    </tr>\n",
              "    <tr>\n",
              "      <th>16</th>\n",
              "      <td>Audi</td>\n",
              "      <td>2016 Audi A6 2.0T Premium Plus</td>\n",
              "      <td>60479.0</td>\n",
              "      <td>19900.0</td>\n",
              "      <td>Audi Pittsburgh</td>\n",
              "      <td>4.4</td>\n",
              "      <td>198</td>\n",
              "    </tr>\n",
              "    <tr>\n",
              "      <th>63</th>\n",
              "      <td>Hyundai</td>\n",
              "      <td>2016 Hyundai Equus Ultimate</td>\n",
              "      <td>61944.0</td>\n",
              "      <td>22492.0</td>\n",
              "      <td>AutoCenters Nissan</td>\n",
              "      <td>4.3</td>\n",
              "      <td>336</td>\n",
              "    </tr>\n",
              "    <tr>\n",
              "      <th>...</th>\n",
              "      <td>...</td>\n",
              "      <td>...</td>\n",
              "      <td>...</td>\n",
              "      <td>...</td>\n",
              "      <td>...</td>\n",
              "      <td>...</td>\n",
              "      <td>...</td>\n",
              "    </tr>\n",
              "    <tr>\n",
              "      <th>333</th>\n",
              "      <td>Maserati</td>\n",
              "      <td>2020 Maserati Levante S GranSport</td>\n",
              "      <td>66138.0</td>\n",
              "      <td>53981.0</td>\n",
              "      <td>Mark Wahlberg Chevrolet</td>\n",
              "      <td>2.9</td>\n",
              "      <td>75</td>\n",
              "    </tr>\n",
              "    <tr>\n",
              "      <th>334</th>\n",
              "      <td>Maserati</td>\n",
              "      <td>2014 Maserati Quattroporte S Q4</td>\n",
              "      <td>66226.0</td>\n",
              "      <td>24775.0</td>\n",
              "      <td>Highline Auto Sales</td>\n",
              "      <td>4.5</td>\n",
              "      <td>334</td>\n",
              "    </tr>\n",
              "    <tr>\n",
              "      <th>336</th>\n",
              "      <td>Maserati</td>\n",
              "      <td>2016 Maserati Ghibli S Q4</td>\n",
              "      <td>68399.0</td>\n",
              "      <td>30998.0</td>\n",
              "      <td>Herb Chambers Cadillac and Herb Chambers Maser...</td>\n",
              "      <td>4.7</td>\n",
              "      <td>609</td>\n",
              "    </tr>\n",
              "    <tr>\n",
              "      <th>340</th>\n",
              "      <td>Maserati</td>\n",
              "      <td>2017 Maserati Levante Base</td>\n",
              "      <td>68217.0</td>\n",
              "      <td>36995.0</td>\n",
              "      <td>Cars Of Tampa, Inc</td>\n",
              "      <td>3.9</td>\n",
              "      <td>26</td>\n",
              "    </tr>\n",
              "    <tr>\n",
              "      <th>379</th>\n",
              "      <td>Volvo</td>\n",
              "      <td>2017 Volvo S90 T6 Inscription</td>\n",
              "      <td>70322.0</td>\n",
              "      <td>26500.0</td>\n",
              "      <td>Ira Honda Saco</td>\n",
              "      <td>4.8</td>\n",
              "      <td>1184</td>\n",
              "    </tr>\n",
              "  </tbody>\n",
              "</table>\n",
              "<p>63 rows × 7 columns</p>\n",
              "</div>\n",
              "      <button class=\"colab-df-convert\" onclick=\"convertToInteractive('df-2ed98cb4-e6d6-4449-9c44-9bcd0bb3e869')\"\n",
              "              title=\"Convert this dataframe to an interactive table.\"\n",
              "              style=\"display:none;\">\n",
              "        \n",
              "  <svg xmlns=\"http://www.w3.org/2000/svg\" height=\"24px\"viewBox=\"0 0 24 24\"\n",
              "       width=\"24px\">\n",
              "    <path d=\"M0 0h24v24H0V0z\" fill=\"none\"/>\n",
              "    <path d=\"M18.56 5.44l.94 2.06.94-2.06 2.06-.94-2.06-.94-.94-2.06-.94 2.06-2.06.94zm-11 1L8.5 8.5l.94-2.06 2.06-.94-2.06-.94L8.5 2.5l-.94 2.06-2.06.94zm10 10l.94 2.06.94-2.06 2.06-.94-2.06-.94-.94-2.06-.94 2.06-2.06.94z\"/><path d=\"M17.41 7.96l-1.37-1.37c-.4-.4-.92-.59-1.43-.59-.52 0-1.04.2-1.43.59L10.3 9.45l-7.72 7.72c-.78.78-.78 2.05 0 2.83L4 21.41c.39.39.9.59 1.41.59.51 0 1.02-.2 1.41-.59l7.78-7.78 2.81-2.81c.8-.78.8-2.07 0-2.86zM5.41 20L4 18.59l7.72-7.72 1.47 1.35L5.41 20z\"/>\n",
              "  </svg>\n",
              "      </button>\n",
              "      \n",
              "  <style>\n",
              "    .colab-df-container {\n",
              "      display:flex;\n",
              "      flex-wrap:wrap;\n",
              "      gap: 12px;\n",
              "    }\n",
              "\n",
              "    .colab-df-convert {\n",
              "      background-color: #E8F0FE;\n",
              "      border: none;\n",
              "      border-radius: 50%;\n",
              "      cursor: pointer;\n",
              "      display: none;\n",
              "      fill: #1967D2;\n",
              "      height: 32px;\n",
              "      padding: 0 0 0 0;\n",
              "      width: 32px;\n",
              "    }\n",
              "\n",
              "    .colab-df-convert:hover {\n",
              "      background-color: #E2EBFA;\n",
              "      box-shadow: 0px 1px 2px rgba(60, 64, 67, 0.3), 0px 1px 3px 1px rgba(60, 64, 67, 0.15);\n",
              "      fill: #174EA6;\n",
              "    }\n",
              "\n",
              "    [theme=dark] .colab-df-convert {\n",
              "      background-color: #3B4455;\n",
              "      fill: #D2E3FC;\n",
              "    }\n",
              "\n",
              "    [theme=dark] .colab-df-convert:hover {\n",
              "      background-color: #434B5C;\n",
              "      box-shadow: 0px 1px 3px 1px rgba(0, 0, 0, 0.15);\n",
              "      filter: drop-shadow(0px 1px 2px rgba(0, 0, 0, 0.3));\n",
              "      fill: #FFFFFF;\n",
              "    }\n",
              "  </style>\n",
              "\n",
              "      <script>\n",
              "        const buttonEl =\n",
              "          document.querySelector('#df-2ed98cb4-e6d6-4449-9c44-9bcd0bb3e869 button.colab-df-convert');\n",
              "        buttonEl.style.display =\n",
              "          google.colab.kernel.accessAllowed ? 'block' : 'none';\n",
              "\n",
              "        async function convertToInteractive(key) {\n",
              "          const element = document.querySelector('#df-2ed98cb4-e6d6-4449-9c44-9bcd0bb3e869');\n",
              "          const dataTable =\n",
              "            await google.colab.kernel.invokeFunction('convertToInteractive',\n",
              "                                                     [key], {});\n",
              "          if (!dataTable) return;\n",
              "\n",
              "          const docLinkHtml = 'Like what you see? Visit the ' +\n",
              "            '<a target=\"_blank\" href=https://colab.research.google.com/notebooks/data_table.ipynb>data table notebook</a>'\n",
              "            + ' to learn more about interactive tables.';\n",
              "          element.innerHTML = '';\n",
              "          dataTable['output_type'] = 'display_data';\n",
              "          await google.colab.output.renderOutput(dataTable, element);\n",
              "          const docLink = document.createElement('div');\n",
              "          docLink.innerHTML = docLinkHtml;\n",
              "          element.appendChild(docLink);\n",
              "        }\n",
              "      </script>\n",
              "    </div>\n",
              "  </div>\n",
              "  "
            ]
          },
          "metadata": {}
        },
        {
          "output_type": "stream",
          "name": "stdout",
          "text": [
            "Outliers Percentage :: 16.49214659685864 %\n"
          ]
        }
      ]
    },
    {
      "cell_type": "code",
      "source": [
        "cars[\"Rating\"] = cars[\"Rating\"].astype(float)"
      ],
      "metadata": {
        "id": "VsKcWEQeSZkn"
      },
      "execution_count": null,
      "outputs": []
    },
    {
      "cell_type": "code",
      "source": [
        "outliers_rating = find_outliers(cars, \"Rating\", verbose = True)"
      ],
      "metadata": {
        "id": "_eZLj-9hSA0m",
        "colab": {
          "base_uri": "https://localhost:8080/",
          "height": 1000
        },
        "outputId": "c7623622-cf02-45cf-9ec2-f63c1097a17a"
      },
      "execution_count": null,
      "outputs": [
        {
          "output_type": "display_data",
          "data": {
            "text/plain": [
              "         Brand                                            Model   Mileage  \\\n",
              "19        Audi                    2022 Audi e-tron Premium Plus    3857.0   \n",
              "22         Bmw                                 2023 BMW X3 M40i   29207.0   \n",
              "26         Bmw             2023 BMW ALPINA B8 Gran Coupe xDrive   29207.0   \n",
              "30         Bmw                             2023 BMW iX xDrive50   29207.0   \n",
              "62     Hyundai               2019 Hyundai Sonata Hybrid Limited   29168.0   \n",
              "71     Hyundai                      2022 Hyundai Elantra N Base   10126.0   \n",
              "76     Hyundai                  2010 Hyundai Genesis Coupe 2.0T   95295.0   \n",
              "79     Hyundai  2018 Hyundai Santa Fe Sport 2.0L Turbo Ultimate   32204.0   \n",
              "80     Hyundai                      2022 Hyundai Elantra N Base    6990.0   \n",
              "87       Tesla                   2022 Tesla Model Y Performance   17991.0   \n",
              "93       Tesla                         2022 Tesla Model X Plaid    3528.0   \n",
              "113   Cadillac                     2023 Cadillac CT5-V V-Series   29207.0   \n",
              "121    Porsche                          2021 Porsche Macan Base   29207.0   \n",
              "123    Porsche        2022 Porsche Taycan Cross Turismo Turbo S    1866.0   \n",
              "142    Bentley                   2005 Bentley Continental GT GT   66691.0   \n",
              "148    Bentley                         2019 Bentley Bentayga V8   23974.0   \n",
              "149    Bentley                    2014 Bentley Flying Spur Base   50373.0   \n",
              "156    Bentley                         2021 Bentley Bentayga V8   11902.0   \n",
              "167    Bugatti             2010 Bugatti Veyron 16.4 Grand Sport    6061.0   \n",
              "212  Chevrolet             2023 Chevrolet Silverado 2500 Custom   29207.0   \n",
              "214  Chevrolet             2023 Chevrolet Suburban High Country   29207.0   \n",
              "224      Honda                     2022 Honda Accord Sport 1.5T   29207.0   \n",
              "232      Honda                     2022 Honda Accord Sport 1.5T   29207.0   \n",
              "238      Honda                       2023 Honda Odyssey Touring   29207.0   \n",
              "244        Kia                              2021 Kia K5 GT-Line   21786.0   \n",
              "248        Kia                               2020 Kia Sedona EX   61711.0   \n",
              "256        Kia                         2023 Kia Stinger GT-Line   12450.0   \n",
              "268     Nissan                       2017 Nissan Rogue Sport SL   62532.0   \n",
              "280     Nissan                        2017 Nissan Maxima 3.5 SV   46020.0   \n",
              "307       Fiat                          2016 FIAT 500X Trekking   99533.0   \n",
              "310       Fiat                    2019 FIAT 124 Spider Classica   20584.0   \n",
              "311       Fiat                          2021 FIAT 500X Trekking    7402.0   \n",
              "313       Fiat                               2020 FIAT 500L Pop    9883.0   \n",
              "316       Fiat                               2013 FIAT 500C Pop  122931.0   \n",
              "318       Fiat                      2017 FIAT 124 Spider Abarth   69455.0   \n",
              "321   Maserati                     2018 Maserati Quattroporte S   34991.0   \n",
              "322   Maserati        2017 Maserati Quattroporte S Q4 GranSport   28453.0   \n",
              "329   Maserati                     2022 Maserati Levante Modena    5728.0   \n",
              "330   Maserati                       2017 Maserati Levante Base   41594.0   \n",
              "332   Maserati                  2015 Maserati Quattroporte S Q4   64445.0   \n",
              "333   Maserati                2020 Maserati Levante S GranSport   66138.0   \n",
              "339   Maserati                2018 Maserati Levante S GranLusso   53222.0   \n",
              "340   Maserati                       2017 Maserati Levante Base   68217.0   \n",
              "342       Jeep         2022 Jeep Wrangler Unlimited Rubicon 392   29207.0   \n",
              "364      Volvo                      2018 Volvo XC60 T6 Momentum   38966.0   \n",
              "365      Volvo                                2015 Volvo S80 T6   24923.0   \n",
              "367      Volvo                   2019 Volvo XC60 T5 Inscription   19960.0   \n",
              "373      Volvo                   2017 Volvo XC60 T5 Inscription   56285.0   \n",
              "\n",
              "     Final Price                                             Dealer  Rating  \\\n",
              "19       68499.0                       Bloomington Normal Auto-Mall     3.7   \n",
              "22       64280.0                            Richmond BMW Midlothian     4.1   \n",
              "26      149645.0                       Habberstad BMW of Huntington     4.1   \n",
              "30      102155.0                                   Santa Monica BMW     4.1   \n",
              "62       27980.0                                    Capitol Hyundai     4.1   \n",
              "71       32950.0                                         LKL Motors     2.4   \n",
              "76        7401.0                                Gary-Jackson Motors     4.0   \n",
              "79       25991.0                   Chuck Nash Chevrolet, Buick, GMC     4.0   \n",
              "80       33869.0                          Desert European Motorcars     3.8   \n",
              "87       58888.0                                  Audi North Austin     3.6   \n",
              "93      125000.0                               Jim Coleman Cadillac     4.0   \n",
              "113      66345.0                         Loehmann-Blasius Chevrolet     4.1   \n",
              "121      58720.0                                     Porsche Austin     3.4   \n",
              "123     213900.0                                Porsche South Shore     4.1   \n",
              "142      35900.0                                      LW Automotive     4.1   \n",
              "148     134999.0                                   Auto House Tempe     3.6   \n",
              "149      65885.0                               Morrie's Luxury Auto     2.6   \n",
              "156     203910.0                                      Arrowhead BMW     3.4   \n",
              "167    1599950.0                                   Prestige Imports     4.0   \n",
              "212      54335.0                         Patriot Chevrolet Limerick     4.1   \n",
              "214      86325.0                                      Van Chevrolet     3.9   \n",
              "224      30075.0                                        Moses Honda     3.6   \n",
              "232      30470.0                                  Richardson Motors     3.7   \n",
              "238      46290.0                                         Hare Honda     3.1   \n",
              "244      27922.0                                     Quality Toyota     4.1   \n",
              "248      24986.0                                  Richardson Motors     3.7   \n",
              "256      38788.0                                 Audi Mission Viejo     4.1   \n",
              "268      19744.0                        Jeff Drennen GM Super Store     4.1   \n",
              "280      20416.0                               Quebedeaux Buick GMC     4.1   \n",
              "307      10010.0                                   OC Auto Exchange     1.6   \n",
              "310      20999.0                    Superior Nissan of Fayetteville     4.0   \n",
              "311      24988.0                          Barnett Chrysler Jeep Kia     2.3   \n",
              "313      19995.0                              Adams North Charlotte     4.0   \n",
              "316       7950.0                                Chicago Fine Motors     2.0   \n",
              "318      19985.0  AutoNation Chrysler Dodge Jeep Ram North Richl...     4.1   \n",
              "321      38995.0                                     J & S Autohaus     3.6   \n",
              "322      41298.0                        Jaguar Land Rover Allentown     2.9   \n",
              "329      89888.0                             Hi Tech Luxury Imports     2.3   \n",
              "330      37495.0                                            CarXoom     2.4   \n",
              "332      28950.0                                        Zone Motors     2.8   \n",
              "333      53981.0                            Mark Wahlberg Chevrolet     2.9   \n",
              "339      42990.0                         Discovery Auto Center, LLC     3.3   \n",
              "340      36995.0                                 Cars Of Tampa, Inc     3.9   \n",
              "342      83745.0                              Pedder CDR+J of Poway     3.9   \n",
              "364      30394.0                      AutoLenders of Newtown Square     4.0   \n",
              "365      17900.0                                 Sawmill Auto Sales     3.8   \n",
              "367      39390.0                                  Choice Auto Sales     3.9   \n",
              "373      22964.0                          O'Neill's Chevrolet Buick     4.1   \n",
              "\n",
              "    Number of Reviews  \n",
              "19               145   \n",
              "22               439   \n",
              "26              1326   \n",
              "30               223   \n",
              "62              1180   \n",
              "71                34   \n",
              "76                12   \n",
              "79               501   \n",
              "80               280   \n",
              "87               149   \n",
              "93               227   \n",
              "113              746   \n",
              "121              150   \n",
              "123              195   \n",
              "142              173   \n",
              "148               88   \n",
              "149              153   \n",
              "156              117   \n",
              "167               34   \n",
              "212              209   \n",
              "214             1475   \n",
              "224               35   \n",
              "232              270   \n",
              "238              133   \n",
              "244              100   \n",
              "248              270   \n",
              "256              568   \n",
              "268              192   \n",
              "280             2628   \n",
              "307              141   \n",
              "310               50   \n",
              "311              209   \n",
              "313             1605   \n",
              "316               88   \n",
              "318             1327   \n",
              "321              111   \n",
              "322              317   \n",
              "329               12   \n",
              "330              128   \n",
              "332               51   \n",
              "333               75   \n",
              "339               89   \n",
              "340               26   \n",
              "342              189   \n",
              "364              413   \n",
              "365               16   \n",
              "367              143   \n",
              "373              143   "
            ],
            "text/html": [
              "\n",
              "  <div id=\"df-05327206-2145-4644-bc27-b95fa41fb4b0\">\n",
              "    <div class=\"colab-df-container\">\n",
              "      <div>\n",
              "<style scoped>\n",
              "    .dataframe tbody tr th:only-of-type {\n",
              "        vertical-align: middle;\n",
              "    }\n",
              "\n",
              "    .dataframe tbody tr th {\n",
              "        vertical-align: top;\n",
              "    }\n",
              "\n",
              "    .dataframe thead th {\n",
              "        text-align: right;\n",
              "    }\n",
              "</style>\n",
              "<table border=\"1\" class=\"dataframe\">\n",
              "  <thead>\n",
              "    <tr style=\"text-align: right;\">\n",
              "      <th></th>\n",
              "      <th>Brand</th>\n",
              "      <th>Model</th>\n",
              "      <th>Mileage</th>\n",
              "      <th>Final Price</th>\n",
              "      <th>Dealer</th>\n",
              "      <th>Rating</th>\n",
              "      <th>Number of Reviews</th>\n",
              "    </tr>\n",
              "  </thead>\n",
              "  <tbody>\n",
              "    <tr>\n",
              "      <th>19</th>\n",
              "      <td>Audi</td>\n",
              "      <td>2022 Audi e-tron Premium Plus</td>\n",
              "      <td>3857.0</td>\n",
              "      <td>68499.0</td>\n",
              "      <td>Bloomington Normal Auto-Mall</td>\n",
              "      <td>3.7</td>\n",
              "      <td>145</td>\n",
              "    </tr>\n",
              "    <tr>\n",
              "      <th>22</th>\n",
              "      <td>Bmw</td>\n",
              "      <td>2023 BMW X3 M40i</td>\n",
              "      <td>29207.0</td>\n",
              "      <td>64280.0</td>\n",
              "      <td>Richmond BMW Midlothian</td>\n",
              "      <td>4.1</td>\n",
              "      <td>439</td>\n",
              "    </tr>\n",
              "    <tr>\n",
              "      <th>26</th>\n",
              "      <td>Bmw</td>\n",
              "      <td>2023 BMW ALPINA B8 Gran Coupe xDrive</td>\n",
              "      <td>29207.0</td>\n",
              "      <td>149645.0</td>\n",
              "      <td>Habberstad BMW of Huntington</td>\n",
              "      <td>4.1</td>\n",
              "      <td>1326</td>\n",
              "    </tr>\n",
              "    <tr>\n",
              "      <th>30</th>\n",
              "      <td>Bmw</td>\n",
              "      <td>2023 BMW iX xDrive50</td>\n",
              "      <td>29207.0</td>\n",
              "      <td>102155.0</td>\n",
              "      <td>Santa Monica BMW</td>\n",
              "      <td>4.1</td>\n",
              "      <td>223</td>\n",
              "    </tr>\n",
              "    <tr>\n",
              "      <th>62</th>\n",
              "      <td>Hyundai</td>\n",
              "      <td>2019 Hyundai Sonata Hybrid Limited</td>\n",
              "      <td>29168.0</td>\n",
              "      <td>27980.0</td>\n",
              "      <td>Capitol Hyundai</td>\n",
              "      <td>4.1</td>\n",
              "      <td>1180</td>\n",
              "    </tr>\n",
              "    <tr>\n",
              "      <th>71</th>\n",
              "      <td>Hyundai</td>\n",
              "      <td>2022 Hyundai Elantra N Base</td>\n",
              "      <td>10126.0</td>\n",
              "      <td>32950.0</td>\n",
              "      <td>LKL Motors</td>\n",
              "      <td>2.4</td>\n",
              "      <td>34</td>\n",
              "    </tr>\n",
              "    <tr>\n",
              "      <th>76</th>\n",
              "      <td>Hyundai</td>\n",
              "      <td>2010 Hyundai Genesis Coupe 2.0T</td>\n",
              "      <td>95295.0</td>\n",
              "      <td>7401.0</td>\n",
              "      <td>Gary-Jackson Motors</td>\n",
              "      <td>4.0</td>\n",
              "      <td>12</td>\n",
              "    </tr>\n",
              "    <tr>\n",
              "      <th>79</th>\n",
              "      <td>Hyundai</td>\n",
              "      <td>2018 Hyundai Santa Fe Sport 2.0L Turbo Ultimate</td>\n",
              "      <td>32204.0</td>\n",
              "      <td>25991.0</td>\n",
              "      <td>Chuck Nash Chevrolet, Buick, GMC</td>\n",
              "      <td>4.0</td>\n",
              "      <td>501</td>\n",
              "    </tr>\n",
              "    <tr>\n",
              "      <th>80</th>\n",
              "      <td>Hyundai</td>\n",
              "      <td>2022 Hyundai Elantra N Base</td>\n",
              "      <td>6990.0</td>\n",
              "      <td>33869.0</td>\n",
              "      <td>Desert European Motorcars</td>\n",
              "      <td>3.8</td>\n",
              "      <td>280</td>\n",
              "    </tr>\n",
              "    <tr>\n",
              "      <th>87</th>\n",
              "      <td>Tesla</td>\n",
              "      <td>2022 Tesla Model Y Performance</td>\n",
              "      <td>17991.0</td>\n",
              "      <td>58888.0</td>\n",
              "      <td>Audi North Austin</td>\n",
              "      <td>3.6</td>\n",
              "      <td>149</td>\n",
              "    </tr>\n",
              "    <tr>\n",
              "      <th>93</th>\n",
              "      <td>Tesla</td>\n",
              "      <td>2022 Tesla Model X Plaid</td>\n",
              "      <td>3528.0</td>\n",
              "      <td>125000.0</td>\n",
              "      <td>Jim Coleman Cadillac</td>\n",
              "      <td>4.0</td>\n",
              "      <td>227</td>\n",
              "    </tr>\n",
              "    <tr>\n",
              "      <th>113</th>\n",
              "      <td>Cadillac</td>\n",
              "      <td>2023 Cadillac CT5-V V-Series</td>\n",
              "      <td>29207.0</td>\n",
              "      <td>66345.0</td>\n",
              "      <td>Loehmann-Blasius Chevrolet</td>\n",
              "      <td>4.1</td>\n",
              "      <td>746</td>\n",
              "    </tr>\n",
              "    <tr>\n",
              "      <th>121</th>\n",
              "      <td>Porsche</td>\n",
              "      <td>2021 Porsche Macan Base</td>\n",
              "      <td>29207.0</td>\n",
              "      <td>58720.0</td>\n",
              "      <td>Porsche Austin</td>\n",
              "      <td>3.4</td>\n",
              "      <td>150</td>\n",
              "    </tr>\n",
              "    <tr>\n",
              "      <th>123</th>\n",
              "      <td>Porsche</td>\n",
              "      <td>2022 Porsche Taycan Cross Turismo Turbo S</td>\n",
              "      <td>1866.0</td>\n",
              "      <td>213900.0</td>\n",
              "      <td>Porsche South Shore</td>\n",
              "      <td>4.1</td>\n",
              "      <td>195</td>\n",
              "    </tr>\n",
              "    <tr>\n",
              "      <th>142</th>\n",
              "      <td>Bentley</td>\n",
              "      <td>2005 Bentley Continental GT GT</td>\n",
              "      <td>66691.0</td>\n",
              "      <td>35900.0</td>\n",
              "      <td>LW Automotive</td>\n",
              "      <td>4.1</td>\n",
              "      <td>173</td>\n",
              "    </tr>\n",
              "    <tr>\n",
              "      <th>148</th>\n",
              "      <td>Bentley</td>\n",
              "      <td>2019 Bentley Bentayga V8</td>\n",
              "      <td>23974.0</td>\n",
              "      <td>134999.0</td>\n",
              "      <td>Auto House Tempe</td>\n",
              "      <td>3.6</td>\n",
              "      <td>88</td>\n",
              "    </tr>\n",
              "    <tr>\n",
              "      <th>149</th>\n",
              "      <td>Bentley</td>\n",
              "      <td>2014 Bentley Flying Spur Base</td>\n",
              "      <td>50373.0</td>\n",
              "      <td>65885.0</td>\n",
              "      <td>Morrie's Luxury Auto</td>\n",
              "      <td>2.6</td>\n",
              "      <td>153</td>\n",
              "    </tr>\n",
              "    <tr>\n",
              "      <th>156</th>\n",
              "      <td>Bentley</td>\n",
              "      <td>2021 Bentley Bentayga V8</td>\n",
              "      <td>11902.0</td>\n",
              "      <td>203910.0</td>\n",
              "      <td>Arrowhead BMW</td>\n",
              "      <td>3.4</td>\n",
              "      <td>117</td>\n",
              "    </tr>\n",
              "    <tr>\n",
              "      <th>167</th>\n",
              "      <td>Bugatti</td>\n",
              "      <td>2010 Bugatti Veyron 16.4 Grand Sport</td>\n",
              "      <td>6061.0</td>\n",
              "      <td>1599950.0</td>\n",
              "      <td>Prestige Imports</td>\n",
              "      <td>4.0</td>\n",
              "      <td>34</td>\n",
              "    </tr>\n",
              "    <tr>\n",
              "      <th>212</th>\n",
              "      <td>Chevrolet</td>\n",
              "      <td>2023 Chevrolet Silverado 2500 Custom</td>\n",
              "      <td>29207.0</td>\n",
              "      <td>54335.0</td>\n",
              "      <td>Patriot Chevrolet Limerick</td>\n",
              "      <td>4.1</td>\n",
              "      <td>209</td>\n",
              "    </tr>\n",
              "    <tr>\n",
              "      <th>214</th>\n",
              "      <td>Chevrolet</td>\n",
              "      <td>2023 Chevrolet Suburban High Country</td>\n",
              "      <td>29207.0</td>\n",
              "      <td>86325.0</td>\n",
              "      <td>Van Chevrolet</td>\n",
              "      <td>3.9</td>\n",
              "      <td>1475</td>\n",
              "    </tr>\n",
              "    <tr>\n",
              "      <th>224</th>\n",
              "      <td>Honda</td>\n",
              "      <td>2022 Honda Accord Sport 1.5T</td>\n",
              "      <td>29207.0</td>\n",
              "      <td>30075.0</td>\n",
              "      <td>Moses Honda</td>\n",
              "      <td>3.6</td>\n",
              "      <td>35</td>\n",
              "    </tr>\n",
              "    <tr>\n",
              "      <th>232</th>\n",
              "      <td>Honda</td>\n",
              "      <td>2022 Honda Accord Sport 1.5T</td>\n",
              "      <td>29207.0</td>\n",
              "      <td>30470.0</td>\n",
              "      <td>Richardson Motors</td>\n",
              "      <td>3.7</td>\n",
              "      <td>270</td>\n",
              "    </tr>\n",
              "    <tr>\n",
              "      <th>238</th>\n",
              "      <td>Honda</td>\n",
              "      <td>2023 Honda Odyssey Touring</td>\n",
              "      <td>29207.0</td>\n",
              "      <td>46290.0</td>\n",
              "      <td>Hare Honda</td>\n",
              "      <td>3.1</td>\n",
              "      <td>133</td>\n",
              "    </tr>\n",
              "    <tr>\n",
              "      <th>244</th>\n",
              "      <td>Kia</td>\n",
              "      <td>2021 Kia K5 GT-Line</td>\n",
              "      <td>21786.0</td>\n",
              "      <td>27922.0</td>\n",
              "      <td>Quality Toyota</td>\n",
              "      <td>4.1</td>\n",
              "      <td>100</td>\n",
              "    </tr>\n",
              "    <tr>\n",
              "      <th>248</th>\n",
              "      <td>Kia</td>\n",
              "      <td>2020 Kia Sedona EX</td>\n",
              "      <td>61711.0</td>\n",
              "      <td>24986.0</td>\n",
              "      <td>Richardson Motors</td>\n",
              "      <td>3.7</td>\n",
              "      <td>270</td>\n",
              "    </tr>\n",
              "    <tr>\n",
              "      <th>256</th>\n",
              "      <td>Kia</td>\n",
              "      <td>2023 Kia Stinger GT-Line</td>\n",
              "      <td>12450.0</td>\n",
              "      <td>38788.0</td>\n",
              "      <td>Audi Mission Viejo</td>\n",
              "      <td>4.1</td>\n",
              "      <td>568</td>\n",
              "    </tr>\n",
              "    <tr>\n",
              "      <th>268</th>\n",
              "      <td>Nissan</td>\n",
              "      <td>2017 Nissan Rogue Sport SL</td>\n",
              "      <td>62532.0</td>\n",
              "      <td>19744.0</td>\n",
              "      <td>Jeff Drennen GM Super Store</td>\n",
              "      <td>4.1</td>\n",
              "      <td>192</td>\n",
              "    </tr>\n",
              "    <tr>\n",
              "      <th>280</th>\n",
              "      <td>Nissan</td>\n",
              "      <td>2017 Nissan Maxima 3.5 SV</td>\n",
              "      <td>46020.0</td>\n",
              "      <td>20416.0</td>\n",
              "      <td>Quebedeaux Buick GMC</td>\n",
              "      <td>4.1</td>\n",
              "      <td>2628</td>\n",
              "    </tr>\n",
              "    <tr>\n",
              "      <th>307</th>\n",
              "      <td>Fiat</td>\n",
              "      <td>2016 FIAT 500X Trekking</td>\n",
              "      <td>99533.0</td>\n",
              "      <td>10010.0</td>\n",
              "      <td>OC Auto Exchange</td>\n",
              "      <td>1.6</td>\n",
              "      <td>141</td>\n",
              "    </tr>\n",
              "    <tr>\n",
              "      <th>310</th>\n",
              "      <td>Fiat</td>\n",
              "      <td>2019 FIAT 124 Spider Classica</td>\n",
              "      <td>20584.0</td>\n",
              "      <td>20999.0</td>\n",
              "      <td>Superior Nissan of Fayetteville</td>\n",
              "      <td>4.0</td>\n",
              "      <td>50</td>\n",
              "    </tr>\n",
              "    <tr>\n",
              "      <th>311</th>\n",
              "      <td>Fiat</td>\n",
              "      <td>2021 FIAT 500X Trekking</td>\n",
              "      <td>7402.0</td>\n",
              "      <td>24988.0</td>\n",
              "      <td>Barnett Chrysler Jeep Kia</td>\n",
              "      <td>2.3</td>\n",
              "      <td>209</td>\n",
              "    </tr>\n",
              "    <tr>\n",
              "      <th>313</th>\n",
              "      <td>Fiat</td>\n",
              "      <td>2020 FIAT 500L Pop</td>\n",
              "      <td>9883.0</td>\n",
              "      <td>19995.0</td>\n",
              "      <td>Adams North Charlotte</td>\n",
              "      <td>4.0</td>\n",
              "      <td>1605</td>\n",
              "    </tr>\n",
              "    <tr>\n",
              "      <th>316</th>\n",
              "      <td>Fiat</td>\n",
              "      <td>2013 FIAT 500C Pop</td>\n",
              "      <td>122931.0</td>\n",
              "      <td>7950.0</td>\n",
              "      <td>Chicago Fine Motors</td>\n",
              "      <td>2.0</td>\n",
              "      <td>88</td>\n",
              "    </tr>\n",
              "    <tr>\n",
              "      <th>318</th>\n",
              "      <td>Fiat</td>\n",
              "      <td>2017 FIAT 124 Spider Abarth</td>\n",
              "      <td>69455.0</td>\n",
              "      <td>19985.0</td>\n",
              "      <td>AutoNation Chrysler Dodge Jeep Ram North Richl...</td>\n",
              "      <td>4.1</td>\n",
              "      <td>1327</td>\n",
              "    </tr>\n",
              "    <tr>\n",
              "      <th>321</th>\n",
              "      <td>Maserati</td>\n",
              "      <td>2018 Maserati Quattroporte S</td>\n",
              "      <td>34991.0</td>\n",
              "      <td>38995.0</td>\n",
              "      <td>J &amp; S Autohaus</td>\n",
              "      <td>3.6</td>\n",
              "      <td>111</td>\n",
              "    </tr>\n",
              "    <tr>\n",
              "      <th>322</th>\n",
              "      <td>Maserati</td>\n",
              "      <td>2017 Maserati Quattroporte S Q4 GranSport</td>\n",
              "      <td>28453.0</td>\n",
              "      <td>41298.0</td>\n",
              "      <td>Jaguar Land Rover Allentown</td>\n",
              "      <td>2.9</td>\n",
              "      <td>317</td>\n",
              "    </tr>\n",
              "    <tr>\n",
              "      <th>329</th>\n",
              "      <td>Maserati</td>\n",
              "      <td>2022 Maserati Levante Modena</td>\n",
              "      <td>5728.0</td>\n",
              "      <td>89888.0</td>\n",
              "      <td>Hi Tech Luxury Imports</td>\n",
              "      <td>2.3</td>\n",
              "      <td>12</td>\n",
              "    </tr>\n",
              "    <tr>\n",
              "      <th>330</th>\n",
              "      <td>Maserati</td>\n",
              "      <td>2017 Maserati Levante Base</td>\n",
              "      <td>41594.0</td>\n",
              "      <td>37495.0</td>\n",
              "      <td>CarXoom</td>\n",
              "      <td>2.4</td>\n",
              "      <td>128</td>\n",
              "    </tr>\n",
              "    <tr>\n",
              "      <th>332</th>\n",
              "      <td>Maserati</td>\n",
              "      <td>2015 Maserati Quattroporte S Q4</td>\n",
              "      <td>64445.0</td>\n",
              "      <td>28950.0</td>\n",
              "      <td>Zone Motors</td>\n",
              "      <td>2.8</td>\n",
              "      <td>51</td>\n",
              "    </tr>\n",
              "    <tr>\n",
              "      <th>333</th>\n",
              "      <td>Maserati</td>\n",
              "      <td>2020 Maserati Levante S GranSport</td>\n",
              "      <td>66138.0</td>\n",
              "      <td>53981.0</td>\n",
              "      <td>Mark Wahlberg Chevrolet</td>\n",
              "      <td>2.9</td>\n",
              "      <td>75</td>\n",
              "    </tr>\n",
              "    <tr>\n",
              "      <th>339</th>\n",
              "      <td>Maserati</td>\n",
              "      <td>2018 Maserati Levante S GranLusso</td>\n",
              "      <td>53222.0</td>\n",
              "      <td>42990.0</td>\n",
              "      <td>Discovery Auto Center, LLC</td>\n",
              "      <td>3.3</td>\n",
              "      <td>89</td>\n",
              "    </tr>\n",
              "    <tr>\n",
              "      <th>340</th>\n",
              "      <td>Maserati</td>\n",
              "      <td>2017 Maserati Levante Base</td>\n",
              "      <td>68217.0</td>\n",
              "      <td>36995.0</td>\n",
              "      <td>Cars Of Tampa, Inc</td>\n",
              "      <td>3.9</td>\n",
              "      <td>26</td>\n",
              "    </tr>\n",
              "    <tr>\n",
              "      <th>342</th>\n",
              "      <td>Jeep</td>\n",
              "      <td>2022 Jeep Wrangler Unlimited Rubicon 392</td>\n",
              "      <td>29207.0</td>\n",
              "      <td>83745.0</td>\n",
              "      <td>Pedder CDR+J of Poway</td>\n",
              "      <td>3.9</td>\n",
              "      <td>189</td>\n",
              "    </tr>\n",
              "    <tr>\n",
              "      <th>364</th>\n",
              "      <td>Volvo</td>\n",
              "      <td>2018 Volvo XC60 T6 Momentum</td>\n",
              "      <td>38966.0</td>\n",
              "      <td>30394.0</td>\n",
              "      <td>AutoLenders of Newtown Square</td>\n",
              "      <td>4.0</td>\n",
              "      <td>413</td>\n",
              "    </tr>\n",
              "    <tr>\n",
              "      <th>365</th>\n",
              "      <td>Volvo</td>\n",
              "      <td>2015 Volvo S80 T6</td>\n",
              "      <td>24923.0</td>\n",
              "      <td>17900.0</td>\n",
              "      <td>Sawmill Auto Sales</td>\n",
              "      <td>3.8</td>\n",
              "      <td>16</td>\n",
              "    </tr>\n",
              "    <tr>\n",
              "      <th>367</th>\n",
              "      <td>Volvo</td>\n",
              "      <td>2019 Volvo XC60 T5 Inscription</td>\n",
              "      <td>19960.0</td>\n",
              "      <td>39390.0</td>\n",
              "      <td>Choice Auto Sales</td>\n",
              "      <td>3.9</td>\n",
              "      <td>143</td>\n",
              "    </tr>\n",
              "    <tr>\n",
              "      <th>373</th>\n",
              "      <td>Volvo</td>\n",
              "      <td>2017 Volvo XC60 T5 Inscription</td>\n",
              "      <td>56285.0</td>\n",
              "      <td>22964.0</td>\n",
              "      <td>O'Neill's Chevrolet Buick</td>\n",
              "      <td>4.1</td>\n",
              "      <td>143</td>\n",
              "    </tr>\n",
              "  </tbody>\n",
              "</table>\n",
              "</div>\n",
              "      <button class=\"colab-df-convert\" onclick=\"convertToInteractive('df-05327206-2145-4644-bc27-b95fa41fb4b0')\"\n",
              "              title=\"Convert this dataframe to an interactive table.\"\n",
              "              style=\"display:none;\">\n",
              "        \n",
              "  <svg xmlns=\"http://www.w3.org/2000/svg\" height=\"24px\"viewBox=\"0 0 24 24\"\n",
              "       width=\"24px\">\n",
              "    <path d=\"M0 0h24v24H0V0z\" fill=\"none\"/>\n",
              "    <path d=\"M18.56 5.44l.94 2.06.94-2.06 2.06-.94-2.06-.94-.94-2.06-.94 2.06-2.06.94zm-11 1L8.5 8.5l.94-2.06 2.06-.94-2.06-.94L8.5 2.5l-.94 2.06-2.06.94zm10 10l.94 2.06.94-2.06 2.06-.94-2.06-.94-.94-2.06-.94 2.06-2.06.94z\"/><path d=\"M17.41 7.96l-1.37-1.37c-.4-.4-.92-.59-1.43-.59-.52 0-1.04.2-1.43.59L10.3 9.45l-7.72 7.72c-.78.78-.78 2.05 0 2.83L4 21.41c.39.39.9.59 1.41.59.51 0 1.02-.2 1.41-.59l7.78-7.78 2.81-2.81c.8-.78.8-2.07 0-2.86zM5.41 20L4 18.59l7.72-7.72 1.47 1.35L5.41 20z\"/>\n",
              "  </svg>\n",
              "      </button>\n",
              "      \n",
              "  <style>\n",
              "    .colab-df-container {\n",
              "      display:flex;\n",
              "      flex-wrap:wrap;\n",
              "      gap: 12px;\n",
              "    }\n",
              "\n",
              "    .colab-df-convert {\n",
              "      background-color: #E8F0FE;\n",
              "      border: none;\n",
              "      border-radius: 50%;\n",
              "      cursor: pointer;\n",
              "      display: none;\n",
              "      fill: #1967D2;\n",
              "      height: 32px;\n",
              "      padding: 0 0 0 0;\n",
              "      width: 32px;\n",
              "    }\n",
              "\n",
              "    .colab-df-convert:hover {\n",
              "      background-color: #E2EBFA;\n",
              "      box-shadow: 0px 1px 2px rgba(60, 64, 67, 0.3), 0px 1px 3px 1px rgba(60, 64, 67, 0.15);\n",
              "      fill: #174EA6;\n",
              "    }\n",
              "\n",
              "    [theme=dark] .colab-df-convert {\n",
              "      background-color: #3B4455;\n",
              "      fill: #D2E3FC;\n",
              "    }\n",
              "\n",
              "    [theme=dark] .colab-df-convert:hover {\n",
              "      background-color: #434B5C;\n",
              "      box-shadow: 0px 1px 3px 1px rgba(0, 0, 0, 0.15);\n",
              "      filter: drop-shadow(0px 1px 2px rgba(0, 0, 0, 0.3));\n",
              "      fill: #FFFFFF;\n",
              "    }\n",
              "  </style>\n",
              "\n",
              "      <script>\n",
              "        const buttonEl =\n",
              "          document.querySelector('#df-05327206-2145-4644-bc27-b95fa41fb4b0 button.colab-df-convert');\n",
              "        buttonEl.style.display =\n",
              "          google.colab.kernel.accessAllowed ? 'block' : 'none';\n",
              "\n",
              "        async function convertToInteractive(key) {\n",
              "          const element = document.querySelector('#df-05327206-2145-4644-bc27-b95fa41fb4b0');\n",
              "          const dataTable =\n",
              "            await google.colab.kernel.invokeFunction('convertToInteractive',\n",
              "                                                     [key], {});\n",
              "          if (!dataTable) return;\n",
              "\n",
              "          const docLinkHtml = 'Like what you see? Visit the ' +\n",
              "            '<a target=\"_blank\" href=https://colab.research.google.com/notebooks/data_table.ipynb>data table notebook</a>'\n",
              "            + ' to learn more about interactive tables.';\n",
              "          element.innerHTML = '';\n",
              "          dataTable['output_type'] = 'display_data';\n",
              "          await google.colab.output.renderOutput(dataTable, element);\n",
              "          const docLink = document.createElement('div');\n",
              "          docLink.innerHTML = docLinkHtml;\n",
              "          element.appendChild(docLink);\n",
              "        }\n",
              "      </script>\n",
              "    </div>\n",
              "  </div>\n",
              "  "
            ]
          },
          "metadata": {}
        },
        {
          "output_type": "stream",
          "name": "stdout",
          "text": [
            "Outliers Percentage :: 12.56544502617801 %\n"
          ]
        }
      ]
    },
    {
      "cell_type": "markdown",
      "source": [
        "###EDA"
      ],
      "metadata": {
        "id": "5r2jll0xAs9d"
      }
    },
    {
      "cell_type": "code",
      "source": [
        "cars[\"Final Price\"]=cars[\"Final Price\"].astype(float)\n",
        "cars.groupby(\"Brand\")[\"Final Price\"].max()"
      ],
      "metadata": {
        "colab": {
          "base_uri": "https://localhost:8080/"
        },
        "id": "jhsoNR5OhV1b",
        "outputId": "57b3388f-8b0f-411e-c8a0-733c8f8d92d1"
      },
      "execution_count": null,
      "outputs": [
        {
          "output_type": "execute_result",
          "data": {
            "text/plain": [
              "Brand\n",
              "Audi          179999.0\n",
              "Bentley       312365.0\n",
              "Bmw           150755.0\n",
              "Bugatti      3900000.0\n",
              "Cadillac      155740.0\n",
              "Chevrolet      86325.0\n",
              "Ferrari       959900.0\n",
              "Fiat           33900.0\n",
              "Ford           96165.0\n",
              "Honda          51845.0\n",
              "Hyundai        40675.0\n",
              "Jeep           83745.0\n",
              "Kia            46499.0\n",
              "Maserati      118516.0\n",
              "Nissan        119000.0\n",
              "Porsche       245988.0\n",
              "Tesla         125000.0\n",
              "Toyota         78832.0\n",
              "Volvo          79615.0\n",
              "Name: Final Price, dtype: float64"
            ]
          },
          "metadata": {},
          "execution_count": 98
        }
      ]
    },
    {
      "cell_type": "code",
      "source": [
        "cars[\"Final Price\"].idxmax()"
      ],
      "metadata": {
        "colab": {
          "base_uri": "https://localhost:8080/"
        },
        "id": "7U4-xh9hKVuu",
        "outputId": "f08edbe7-6540-4011-f25b-772626cd00d1"
      },
      "execution_count": null,
      "outputs": [
        {
          "output_type": "execute_result",
          "data": {
            "text/plain": [
              "175"
            ]
          },
          "metadata": {},
          "execution_count": 99
        }
      ]
    },
    {
      "cell_type": "code",
      "source": [
        "cars.iloc[175,:]"
      ],
      "metadata": {
        "colab": {
          "base_uri": "https://localhost:8080/"
        },
        "id": "c6cAmxB9Kc0M",
        "outputId": "1c9c7500-5c0d-4367-ecd0-3ada9a7b8cc6"
      },
      "execution_count": null,
      "outputs": [
        {
          "output_type": "execute_result",
          "data": {
            "text/plain": [
              "Brand                             Bugatti\n",
              "Model                2019 Bugatti Chiron \n",
              "Mileage                             334.0\n",
              "Final Price                     3900000.0\n",
              "Dealer                      HGreg.com Lux\n",
              "Rating                                4.7\n",
              "Number of Reviews                    433 \n",
              "Name: 175, dtype: object"
            ]
          },
          "metadata": {},
          "execution_count": 100
        }
      ]
    },
    {
      "cell_type": "code",
      "source": [
        "cars.groupby(\"Brand\")[\"Mileage\"].max()"
      ],
      "metadata": {
        "colab": {
          "base_uri": "https://localhost:8080/"
        },
        "id": "kWnhqopd_54J",
        "outputId": "241c0202-505c-4590-b2ac-bd42687901bb"
      },
      "execution_count": null,
      "outputs": [
        {
          "output_type": "execute_result",
          "data": {
            "text/plain": [
              "Brand\n",
              "Audi          67643.0\n",
              "Bentley       66691.0\n",
              "Bmw           29207.0\n",
              "Bugatti       15011.0\n",
              "Cadillac     100291.0\n",
              "Chevrolet     38552.0\n",
              "Ferrari       58947.0\n",
              "Fiat         122931.0\n",
              "Ford          29207.0\n",
              "Honda         29207.0\n",
              "Hyundai      101188.0\n",
              "Jeep          29207.0\n",
              "Kia          102789.0\n",
              "Maserati      68399.0\n",
              "Nissan       117973.0\n",
              "Porsche       95641.0\n",
              "Tesla         71986.0\n",
              "Toyota        29207.0\n",
              "Volvo         70322.0\n",
              "Name: Mileage, dtype: float64"
            ]
          },
          "metadata": {},
          "execution_count": 101
        }
      ]
    },
    {
      "cell_type": "code",
      "source": [
        "cars[\"Mileage\"].idxmax()"
      ],
      "metadata": {
        "colab": {
          "base_uri": "https://localhost:8080/"
        },
        "id": "YxaT5aStKrqp",
        "outputId": "a8905b5b-e973-4d44-b6ed-53253f3eebd8"
      },
      "execution_count": null,
      "outputs": [
        {
          "output_type": "execute_result",
          "data": {
            "text/plain": [
              "316"
            ]
          },
          "metadata": {},
          "execution_count": 111
        }
      ]
    },
    {
      "cell_type": "code",
      "source": [
        "\n",
        "cars.iloc[316,:]"
      ],
      "metadata": {
        "colab": {
          "base_uri": "https://localhost:8080/"
        },
        "id": "RJsoVt9EKruN",
        "outputId": "8db35a58-9948-42eb-923a-c12137dfa112"
      },
      "execution_count": null,
      "outputs": [
        {
          "output_type": "execute_result",
          "data": {
            "text/plain": [
              "Brand                               Fiat\n",
              "Model                 2013 FIAT 500C Pop\n",
              "Mileage                         122931.0\n",
              "Final Price                       7950.0\n",
              "Dealer               Chicago Fine Motors\n",
              "Rating                               2.0\n",
              "Number of Reviews                    88 \n",
              "Name: 316, dtype: object"
            ]
          },
          "metadata": {},
          "execution_count": 112
        }
      ]
    },
    {
      "cell_type": "code",
      "source": [
        "cars[\"Rating\"]=cars[\"Rating\"].astype(float)\n",
        "cars.groupby(\"Brand\")[\"Rating\"].max()"
      ],
      "metadata": {
        "colab": {
          "base_uri": "https://localhost:8080/"
        },
        "id": "Ue6ZbKJW_6Me",
        "outputId": "2b494c03-0dcd-4c03-ceaa-9b32bf1404d1"
      },
      "execution_count": null,
      "outputs": [
        {
          "output_type": "execute_result",
          "data": {
            "text/plain": [
              "Brand\n",
              "Audi         5.0\n",
              "Bentley      5.0\n",
              "Bmw          5.0\n",
              "Bugatti      5.0\n",
              "Cadillac     4.9\n",
              "Chevrolet    5.0\n",
              "Ferrari      5.0\n",
              "Fiat         4.9\n",
              "Ford         4.9\n",
              "Honda        4.9\n",
              "Hyundai      5.0\n",
              "Jeep         4.9\n",
              "Kia          4.9\n",
              "Maserati     4.9\n",
              "Nissan       5.0\n",
              "Porsche      4.9\n",
              "Tesla        4.9\n",
              "Toyota       4.9\n",
              "Volvo        4.9\n",
              "Name: Rating, dtype: float64"
            ]
          },
          "metadata": {},
          "execution_count": 71
        }
      ]
    },
    {
      "cell_type": "code",
      "source": [],
      "metadata": {
        "id": "sF9kL6f1MwEV"
      },
      "execution_count": null,
      "outputs": []
    },
    {
      "cell_type": "code",
      "source": [],
      "metadata": {
        "id": "GAQkj0AjOLEb"
      },
      "execution_count": null,
      "outputs": []
    },
    {
      "cell_type": "markdown",
      "source": [
        "###Visualization EDA"
      ],
      "metadata": {
        "id": "iMFAFpdA4QHL"
      }
    },
    {
      "cell_type": "markdown",
      "source": [
        "####Univariate:"
      ],
      "metadata": {
        "id": "Bhobw5_Qmipo"
      }
    },
    {
      "cell_type": "markdown",
      "source": [
        "Num:"
      ],
      "metadata": {
        "id": "Ub7Gv1yZzPCa"
      }
    },
    {
      "cell_type": "code",
      "source": [
        "import matplotlib.pyplot as plt\n",
        "\n",
        "plt.figure(dpi=200,figsize=(15,5))\n",
        "\n",
        "cars[\"Final Price\"]=cars[\"Final Price\"].astype(float)\n",
        "\n",
        "plt.plot(cars[\"Final Price\"])\n",
        "\n",
        "\n",
        "\n",
        "plt.show()"
      ],
      "metadata": {
        "colab": {
          "base_uri": "https://localhost:8080/",
          "height": 459
        },
        "id": "Sr4Frxx43JYC",
        "outputId": "ddcb4c47-a25a-49c6-84f4-ad3c2adad908"
      },
      "execution_count": null,
      "outputs": [
        {
          "output_type": "display_data",
          "data": {
            "text/plain": [
              "<Figure size 3000x1000 with 1 Axes>"
            ],
            "image/png": "[encoded data removed]"
          },
          "metadata": {
            "needs_background": "light"
          }
        }
      ]
    },
    {
      "cell_type": "code",
      "source": [],
      "metadata": {
        "id": "S-TTBDvq04dW"
      },
      "execution_count": null,
      "outputs": []
    },
    {
      "cell_type": "code",
      "source": [],
      "metadata": {
        "id": "KLekLskf3Jav"
      },
      "execution_count": null,
      "outputs": []
    },
    {
      "cell_type": "code",
      "source": [],
      "metadata": {
        "id": "jzNh4cMn3JeO"
      },
      "execution_count": null,
      "outputs": []
    },
    {
      "cell_type": "code",
      "source": [
        "import seaborn as sns\n",
        "import matplotlib.pyplot as plt\n",
        "\n",
        "plt.hist(cars[\"Rating\"])\n",
        "plt.title(\"Rating\")\n",
        "plt.show()"
      ],
      "metadata": {
        "colab": {
          "base_uri": "https://localhost:8080/",
          "height": 281
        },
        "id": "84J9IX5UoQMx",
        "outputId": "9c5a7701-cf48-45c8-c169-d574786de464"
      },
      "execution_count": null,
      "outputs": [
        {
          "output_type": "display_data",
          "data": {
            "text/plain": [
              "<Figure size 432x288 with 1 Axes>"
            ],
            "image/png": "[encoded data removed]"
          },
          "metadata": {
            "needs_background": "light"
          }
        }
      ]
    },
    {
      "cell_type": "code",
      "source": [
        "import seaborn as sns\n",
        "import matplotlib.pyplot as plt\n",
        "\n",
        "\n",
        "plt.hist(cars[\"Final Price\"])\n",
        "\n",
        "plt.title(\"Final Price\")\n",
        "\n",
        "plt.show()"
      ],
      "metadata": {
        "colab": {
          "base_uri": "https://localhost:8080/",
          "height": 294
        },
        "id": "aDoEuy85py03",
        "outputId": "81fc920f-5f4a-4618-b38b-629b0e252a3c"
      },
      "execution_count": null,
      "outputs": [
        {
          "output_type": "display_data",
          "data": {
            "text/plain": [
              "<Figure size 432x288 with 1 Axes>"
            ],
            "image/png": "[encoded data removed]"
          },
          "metadata": {
            "needs_background": "light"
          }
        }
      ]
    },
    {
      "cell_type": "code",
      "source": [
        "import seaborn as sns\n",
        "import matplotlib.pyplot as plt\n",
        "\n",
        "\n",
        "plt.hist(cars[\"Mileage\"])\n",
        "\n",
        "plt.title(\"Mileage\")\n",
        "\n",
        "plt.show()"
      ],
      "metadata": {
        "colab": {
          "base_uri": "https://localhost:8080/",
          "height": 281
        },
        "id": "qBEhDASpkz-Y",
        "outputId": "83c9147c-b618-4127-8e99-11157857c3a8"
      },
      "execution_count": null,
      "outputs": [
        {
          "output_type": "display_data",
          "data": {
            "text/plain": [
              "<Figure size 432x288 with 1 Axes>"
            ],
            "image/png": "[encoded data removed]"
          },
          "metadata": {
            "needs_background": "light"
          }
        }
      ]
    },
    {
      "cell_type": "code",
      "source": [
        "sns.boxplot(cars[\"Mileage\"])\n"
      ],
      "metadata": {
        "colab": {
          "base_uri": "https://localhost:8080/",
          "height": 296
        },
        "id": "d0fuRUbF0ItP",
        "outputId": "cb311cfb-af63-4457-a3c4-93f634d8d446"
      },
      "execution_count": null,
      "outputs": [
        {
          "output_type": "execute_result",
          "data": {
            "text/plain": [
              "<matplotlib.axes._subplots.AxesSubplot at 0x7fd9115450d0>"
            ]
          },
          "metadata": {},
          "execution_count": 76
        },
        {
          "output_type": "display_data",
          "data": {
            "text/plain": [
              "<Figure size 432x288 with 1 Axes>"
            ],
            "image/png": "[encoded data removed]"
          },
          "metadata": {
            "needs_background": "light"
          }
        }
      ]
    },
    {
      "cell_type": "code",
      "source": [
        "sns.boxplot(cars[\"Rating\"])\n"
      ],
      "metadata": {
        "colab": {
          "base_uri": "https://localhost:8080/",
          "height": 296
        },
        "id": "0K6ah4-L0IvY",
        "outputId": "f97891a1-5e81-4ef3-e2c1-e1cd17e29774"
      },
      "execution_count": null,
      "outputs": [
        {
          "output_type": "execute_result",
          "data": {
            "text/plain": [
              "<matplotlib.axes._subplots.AxesSubplot at 0x7fd91127f460>"
            ]
          },
          "metadata": {},
          "execution_count": 77
        },
        {
          "output_type": "display_data",
          "data": {
            "text/plain": [
              "<Figure size 432x288 with 1 Axes>"
            ],
            "image/png": "[encoded data removed]"
          },
          "metadata": {
            "needs_background": "light"
          }
        }
      ]
    },
    {
      "cell_type": "code",
      "source": [
        "plt.figure(figsize=(19,3.5))\n",
        "sns.boxplot(cars[\"Final Price\"])\n"
      ],
      "metadata": {
        "colab": {
          "base_uri": "https://localhost:8080/",
          "height": 269
        },
        "id": "2Hs_W5ls0Iy6",
        "outputId": "c987759b-b6a2-47bc-ce5f-6e2323856d68"
      },
      "execution_count": null,
      "outputs": [
        {
          "output_type": "execute_result",
          "data": {
            "text/plain": [
              "<matplotlib.axes._subplots.AxesSubplot at 0x7fd9110662b0>"
            ]
          },
          "metadata": {},
          "execution_count": 78
        },
        {
          "output_type": "display_data",
          "data": {
            "text/plain": [
              "<Figure size 1368x252 with 1 Axes>"
            ],
            "image/png": "[encoded data removed]"
          },
          "metadata": {
            "needs_background": "light"
          }
        }
      ]
    },
    {
      "cell_type": "markdown",
      "source": [
        "Cat:"
      ],
      "metadata": {
        "id": "fbWD2KPNzNLV"
      }
    },
    {
      "cell_type": "code",
      "source": [
        "\n",
        "import matplotlib.pyplot as plt\n",
        "\n",
        "br=cars[\"Brand\"].value_counts()\n",
        "\n",
        "plt.pie(br, labels = br.index, autopct = '%.2f')\n",
        "\n",
        "plt.show()"
      ],
      "metadata": {
        "colab": {
          "base_uri": "https://localhost:8080/",
          "height": 248
        },
        "id": "Fm0qZLbCpy65",
        "outputId": "24af2ffb-ebcf-48e2-ab88-0c5f373be230"
      },
      "execution_count": null,
      "outputs": [
        {
          "output_type": "display_data",
          "data": {
            "text/plain": [
              "<Figure size 432x288 with 1 Axes>"
            ],
            "image/png": "[encoded data removed]"
          },
          "metadata": {}
        }
      ]
    },
    {
      "cell_type": "code",
      "source": [
        "l1=cars.groupby(\"Brand\")[\"Final Price\"].mean()\n",
        "\n",
        "print(l1)\n",
        "print(cars[\"Brand\"].unique())\n",
        "\n",
        "label=list(br.index.astype(str)+\" \"+l1.astype(str))\n",
        "\n",
        "plt.pie(l1,labels = cars[\"Brand\"].unique())\n",
        "\n",
        "print(label)"
      ],
      "metadata": {
        "colab": {
          "base_uri": "https://localhost:8080/",
          "height": 702
        },
        "id": "opdEbAE2rxjR",
        "outputId": "426432df-fa9f-4c9f-f738-85fc6d845262"
      },
      "execution_count": null,
      "outputs": [
        {
          "output_type": "stream",
          "name": "stdout",
          "text": [
            "Brand\n",
            "Audi         5.210500e+04\n",
            "Bentley      1.655271e+05\n",
            "Bmw          9.080075e+04\n",
            "Bugatti      2.099235e+06\n",
            "Cadillac     6.070045e+04\n",
            "Chevrolet    5.230181e+04\n",
            "Ferrari      2.879345e+05\n",
            "Fiat         1.640915e+04\n",
            "Ford         5.894625e+04\n",
            "Honda        4.105467e+04\n",
            "Hyundai      2.531705e+04\n",
            "Jeep         5.439100e+04\n",
            "Kia          3.175705e+04\n",
            "Maserati     5.089690e+04\n",
            "Nissan       2.721838e+04\n",
            "Porsche      8.664945e+04\n",
            "Tesla        6.379930e+04\n",
            "Toyota       4.879235e+04\n",
            "Volvo        4.827190e+04\n",
            "Name: Final Price, dtype: float64\n",
            "['Audi' 'Bmw' 'Ford' 'Hyundai' 'Tesla' 'Cadillac' 'Porsche' 'Bentley'\n",
            " 'Bugatti' 'Ferrari' 'Chevrolet' 'Honda' 'Kia' 'Nissan' 'Toyota' 'Fiat'\n",
            " 'Maserati' 'Jeep' 'Volvo']\n",
            "['Chevrolet 52105.0', 'Jeep 165527.15', 'Hyundai 90800.75', 'Nissan 2099235.3125', 'Kia 60700.45', 'Honda 52301.80952380953', 'Audi 287934.5', 'Maserati 16409.15', 'Fiat 58946.25', 'Toyota 41054.666666666664', 'Ferrari 25317.04761904762', 'Bmw 54391.0', 'Bentley 31757.04761904762', 'Porsche 50896.9', 'Cadillac 27218.380952380954', 'Tesla 86649.45', 'Ford 63799.3', 'Volvo 48792.35', 'Bugatti 48271.9']\n"
          ]
        },
        {
          "output_type": "display_data",
          "data": {
            "text/plain": [
              "<Figure size 432x288 with 1 Axes>"
            ],
            "image/png": "[encoded data removed]"
          },
          "metadata": {}
        }
      ]
    },
    {
      "cell_type": "code",
      "source": [
        "\n",
        "sns.countplot(x='Brand',data=cars,)\n",
        "plt.xticks(rotation=90)\n",
        "\n",
        "plt.show()\n"
      ],
      "metadata": {
        "colab": {
          "base_uri": "https://localhost:8080/",
          "height": 317
        },
        "id": "ESXUXKJlpxej",
        "outputId": "c325e344-7101-4461-a566-d739c6dd95cd"
      },
      "execution_count": null,
      "outputs": [
        {
          "output_type": "display_data",
          "data": {
            "text/plain": [
              "<Figure size 432x288 with 1 Axes>"
            ],
            "image/png": "[encoded data removed]"
          },
          "metadata": {
            "needs_background": "light"
          }
        }
      ]
    },
    {
      "cell_type": "markdown",
      "source": [
        "####Bivariate:"
      ],
      "metadata": {
        "id": "7ZVa-wh1za1_"
      }
    },
    {
      "cell_type": "markdown",
      "source": [
        "\n",
        "Num vs Num:"
      ],
      "metadata": {
        "id": "mJd0A7sAzdhn"
      }
    },
    {
      "cell_type": "code",
      "source": [
        "\n",
        "plt.figure(figsize=(10,5))\n",
        "plt.scatter(cars[\"Mileage\"],cars[\"Final Price\"])\n",
        "\n",
        "ax=plt.axes()\n",
        "plt.xlabel(\"Mileage\")\n",
        "plt.ylabel(\"Final Price\")\n",
        "\n",
        "plt.show()"
      ],
      "metadata": {
        "colab": {
          "base_uri": "https://localhost:8080/",
          "height": 345
        },
        "id": "qAPB6FGfpxg3",
        "outputId": "6f6c7517-6aa9-4ef8-959f-bdde0b0201b1"
      },
      "execution_count": null,
      "outputs": [
        {
          "output_type": "display_data",
          "data": {
            "text/plain": [
              "<Figure size 720x360 with 1 Axes>"
            ],
            "image/png": "[encoded data removed]"
          },
          "metadata": {
            "needs_background": "light"
          }
        }
      ]
    },
    {
      "cell_type": "code",
      "source": [
        "\n",
        "plt.figure(figsize=(10,5))\n",
        "plt.scatter(cars[\"Mileage\"],cars[\"Rating\"])\n",
        "\n",
        "ax=plt.axes()\n",
        "plt.xlabel(\"Mileage\")\n",
        "plt.ylabel(\"Rating\")\n",
        "\n",
        "plt.show()"
      ],
      "metadata": {
        "colab": {
          "base_uri": "https://localhost:8080/",
          "height": 334
        },
        "id": "bv-O3WnrpxkT",
        "outputId": "14a77fda-4036-4e45-c0a6-ae8ddffb6cf5"
      },
      "execution_count": null,
      "outputs": [
        {
          "output_type": "display_data",
          "data": {
            "text/plain": [
              "<Figure size 720x360 with 1 Axes>"
            ],
            "image/png": "[encoded data removed]"
          },
          "metadata": {
            "needs_background": "light"
          }
        }
      ]
    },
    {
      "cell_type": "code",
      "source": [
        "plt.figure(figsize=(10,5))\n",
        "plt.scatter(cars[\"Final Price\"],cars[\"Rating\"])\n",
        "\n",
        "ax=plt.axes()\n",
        "plt.xlabel(\"Final Price\")\n",
        "plt.ylabel(\"Rating\")\n",
        "\n",
        "plt.show()"
      ],
      "metadata": {
        "colab": {
          "base_uri": "https://localhost:8080/",
          "height": 334
        },
        "id": "nNrvXx8moQWV",
        "outputId": "4a9e2e1d-a5be-486e-932a-6f4fba678875"
      },
      "execution_count": null,
      "outputs": [
        {
          "output_type": "display_data",
          "data": {
            "text/plain": [
              "<Figure size 720x360 with 1 Axes>"
            ],
            "image/png": "[encoded data removed]"
          },
          "metadata": {
            "needs_background": "light"
          }
        }
      ]
    },
    {
      "cell_type": "code",
      "source": [
        "\n",
        "plt.figure(figsize=(10,5))\n",
        "plt.scatter(cars[\"Number of Reviews\"],cars[\"Rating\"])\n",
        "\n",
        "ax=plt.axes()\n",
        "plt.xlabel(\"Number of Reviews\")\n",
        "plt.ylabel(\"Rating\")\n",
        "\n",
        "plt.show()"
      ],
      "metadata": {
        "colab": {
          "base_uri": "https://localhost:8080/",
          "height": 334
        },
        "id": "aVymZWnxo88V",
        "outputId": "cea52611-164b-4ac0-cb79-024c9c2de2f6"
      },
      "execution_count": null,
      "outputs": [
        {
          "output_type": "display_data",
          "data": {
            "text/plain": [
              "<Figure size 720x360 with 1 Axes>"
            ],
            "image/png": "[encoded data removed]"
          },
          "metadata": {
            "needs_background": "light"
          }
        }
      ]
    },
    {
      "cell_type": "markdown",
      "source": [
        "Num vs Cat:"
      ],
      "metadata": {
        "id": "MC1Nc72x1hI2"
      }
    },
    {
      "cell_type": "code",
      "source": [
        "sns.barplot(cars[\"Brand\"],cars[\"Final Price\"])\n",
        "\n",
        "plt.xticks(rotation=90)\n",
        "\n",
        "plt.show()"
      ],
      "metadata": {
        "colab": {
          "base_uri": "https://localhost:8080/",
          "height": 328
        },
        "id": "HnNlt7hQo8-m",
        "outputId": "4e6c7866-003c-46fe-8bac-20cf7fb96d00"
      },
      "execution_count": null,
      "outputs": [
        {
          "output_type": "display_data",
          "data": {
            "text/plain": [
              "<Figure size 432x288 with 1 Axes>"
            ],
            "image/png": "[encoded data removed]"
          },
          "metadata": {
            "needs_background": "light"
          }
        }
      ]
    },
    {
      "cell_type": "code",
      "source": [
        "\n",
        "sns.barplot(cars[\"Brand\"],cars[\"Mileage\"])\n",
        "\n",
        "plt.xticks(rotation=90)\n",
        "\n",
        "plt.show()"
      ],
      "metadata": {
        "colab": {
          "base_uri": "https://localhost:8080/",
          "height": 317
        },
        "id": "PkPnfGSR1i-K",
        "outputId": "152b9c8f-bbfd-40e8-f9bf-8996e339f5fe"
      },
      "execution_count": null,
      "outputs": [
        {
          "output_type": "display_data",
          "data": {
            "text/plain": [
              "<Figure size 432x288 with 1 Axes>"
            ],
            "image/png": "[encoded data removed]"
          },
          "metadata": {
            "needs_background": "light"
          }
        }
      ]
    },
    {
      "cell_type": "code",
      "source": [
        "\n",
        "sns.barplot(cars[\"Brand\"],cars[\"Rating\"])\n",
        "\n",
        "plt.xticks(rotation=90)\n",
        "\n",
        "plt.show()"
      ],
      "metadata": {
        "colab": {
          "base_uri": "https://localhost:8080/",
          "height": 320
        },
        "id": "frpE_-RC1jA8",
        "outputId": "6d7e28c7-d947-4993-c021-71401eb5f92a"
      },
      "execution_count": null,
      "outputs": [
        {
          "output_type": "display_data",
          "data": {
            "text/plain": [
              "<Figure size 432x288 with 1 Axes>"
            ],
            "image/png": "[encoded data removed]"
          },
          "metadata": {
            "needs_background": "light"
          }
        }
      ]
    },
    {
      "cell_type": "code",
      "source": [
        "plt.figure(dpi=200,figsize=(15,4))\n",
        "\n",
        "cars[\"Mileage\"]=cars[\"Mileage\"].astype(float)\n",
        "sns.boxplot(x=cars[\"Brand\"],y=cars[\"Mileage\"])\n",
        "plt.show"
      ],
      "metadata": {
        "colab": {
          "base_uri": "https://localhost:8080/",
          "height": 393
        },
        "id": "EzExfnGO34oB",
        "outputId": "2a64c804-f8fb-4c6f-fd16-1a2c825a21ea"
      },
      "execution_count": null,
      "outputs": [
        {
          "output_type": "execute_result",
          "data": {
            "text/plain": [
              "<function matplotlib.pyplot.show(*args, **kw)>"
            ]
          },
          "metadata": {},
          "execution_count": 89
        },
        {
          "output_type": "display_data",
          "data": {
            "text/plain": [
              "<Figure size 3000x800 with 1 Axes>"
            ],
            "image/png": "[encoded data removed]"
          },
          "metadata": {
            "needs_background": "light"
          }
        }
      ]
    },
    {
      "cell_type": "markdown",
      "source": [],
      "metadata": {
        "id": "d9X9ygxw2j9C"
      }
    },
    {
      "cell_type": "code",
      "source": [
        "cars[\"Final Price\"]=cars[\"Final Price\"].astype(float)\n",
        "cars.groupby(\"Brand\")[\"Final Price\"].max().plot(kind=\"bar\")"
      ],
      "metadata": {
        "colab": {
          "base_uri": "https://localhost:8080/",
          "height": 345
        },
        "id": "VO6BNenmQkOd",
        "outputId": "570a7e12-c839-42e0-e3ea-05951ade1da4"
      },
      "execution_count": null,
      "outputs": [
        {
          "output_type": "execute_result",
          "data": {
            "text/plain": [
              "<matplotlib.axes._subplots.AxesSubplot at 0x7fd9115c54c0>"
            ]
          },
          "metadata": {},
          "execution_count": 113
        },
        {
          "output_type": "display_data",
          "data": {
            "text/plain": [
              "<Figure size 432x288 with 1 Axes>"
            ],
            "image/png": "[encoded data removed]"
          },
          "metadata": {
            "needs_background": "light"
          }
        }
      ]
    },
    {
      "cell_type": "code",
      "source": [
        "\n",
        "cars[\"Final Price\"]=cars[\"Final Price\"].astype(float)\n",
        "cars.groupby(\"Brand\")[\"Final Price\"].min().plot(kind=\"bar\")"
      ],
      "metadata": {
        "colab": {
          "base_uri": "https://localhost:8080/",
          "height": 338
        },
        "id": "LHv5yr20WL8_",
        "outputId": "0f23e958-15ce-4b5d-f4de-9cb679604bc0"
      },
      "execution_count": null,
      "outputs": [
        {
          "output_type": "execute_result",
          "data": {
            "text/plain": [
              "<matplotlib.axes._subplots.AxesSubplot at 0x7fd91194ac10>"
            ]
          },
          "metadata": {},
          "execution_count": 91
        },
        {
          "output_type": "display_data",
          "data": {
            "text/plain": [
              "<Figure size 432x288 with 1 Axes>"
            ],
            "image/png": "[encoded data removed]"
          },
          "metadata": {
            "needs_background": "light"
          }
        }
      ]
    },
    {
      "cell_type": "code",
      "source": [
        "cars[\"Mileage\"]=cars[\"Mileage\"].astype(float)\n",
        "cars.groupby(\"Brand\")[\"Mileage\"].max().plot(kind=\"bar\")\n"
      ],
      "metadata": {
        "colab": {
          "base_uri": "https://localhost:8080/",
          "height": 334
        },
        "id": "u5W0eRkKQtQp",
        "outputId": "1dbbe068-a2a0-4bcc-9c4f-edbefdd02c14"
      },
      "execution_count": null,
      "outputs": [
        {
          "output_type": "execute_result",
          "data": {
            "text/plain": [
              "<matplotlib.axes._subplots.AxesSubplot at 0x7fd90e251eb0>"
            ]
          },
          "metadata": {},
          "execution_count": 117
        },
        {
          "output_type": "display_data",
          "data": {
            "text/plain": [
              "<Figure size 432x288 with 1 Axes>"
            ],
            "image/png": "[encoded data removed]"
          },
          "metadata": {
            "needs_background": "light"
          }
        }
      ]
    },
    {
      "cell_type": "code",
      "source": [
        "cars[\"Rating\"]=cars[\"Rating\"].astype(float)\n",
        "cars.groupby(\"Brand\")[\"Rating\"].max().plot(kind=\"bar\")"
      ],
      "metadata": {
        "colab": {
          "base_uri": "https://localhost:8080/",
          "height": 334
        },
        "id": "Dtf2C1PFQ5n_",
        "outputId": "b7e8909e-b5d1-4a9a-ef42-b505929dde0c"
      },
      "execution_count": null,
      "outputs": [
        {
          "output_type": "execute_result",
          "data": {
            "text/plain": [
              "<matplotlib.axes._subplots.AxesSubplot at 0x7fd9111c1bb0>"
            ]
          },
          "metadata": {},
          "execution_count": 115
        },
        {
          "output_type": "display_data",
          "data": {
            "text/plain": [
              "<Figure size 432x288 with 1 Axes>"
            ],
            "image/png": "[encoded data removed]"
          },
          "metadata": {
            "needs_background": "light"
          }
        }
      ]
    },
    {
      "cell_type": "code",
      "source": [
        "\n"
      ],
      "metadata": {
        "id": "g3XQpvnyeScp"
      },
      "execution_count": null,
      "outputs": []
    },
    {
      "cell_type": "code",
      "source": [],
      "metadata": {
        "id": "sM7fBpO9eS2y"
      },
      "execution_count": null,
      "outputs": []
    }
  ]
}